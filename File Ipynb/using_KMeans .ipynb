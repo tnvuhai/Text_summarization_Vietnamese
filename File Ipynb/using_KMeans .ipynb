{
 "cells": [
  {
   "cell_type": "code",
   "execution_count": 9,
   "metadata": {},
   "outputs": [
    {
     "name": "stdout",
     "output_type": "stream",
     "text": [
      "K-Means\n",
      "173444\n"
     ]
    }
   ],
   "source": [
    "print(\"K-Means\")\n",
    "\n",
    "import gensim \n",
    "import gensim.models.keyedvectors as word2vec\n",
    "w2v_model = word2vec.KeyedVectors.load('w2v.model')\n",
    "\n",
    "vocabulary = []\n",
    "for word in w2v_model.index_to_key:\n",
    "    vocabulary.append(word)\n",
    "print(len(vocabulary))"
   ]
  },
  {
   "cell_type": "code",
   "execution_count": 10,
   "metadata": {},
   "outputs": [
    {
     "name": "stdout",
     "output_type": "stream",
     "text": [
      "0 === \"chiến dịch quân sự đặc biệt vẫn tiếp tục và nó sẽ không dừng cho đến khi đạt được các mục tiêu đã đặt ra từ đầu\", đại diện điện kremlin khẳng định trong cuộc họp báo chiều 12-9.  khi được hỏi rằng liệu tổng thống putin có tin tưởng các tướng lĩnh của ông hay không, ông peskov đã uyển chuyển đổi vấn đề.\n",
      "1 === \"bất kỳ hoạt động quân sự nào thuộc chiến dịch quân sự đặc biệt ở ukraine đều được báo cáo cho tổng tư lệnh tối cao (tổng thống nga - pv).\n",
      "2 === tổng thống liên lạc suốt ngày đêm với bộ trưởng quốc phòng và các tướng lĩnh\", ông peskov nói.\n",
      "3 === hồi cuối tuần trước, bộ quốc phòng nga xác nhận đang rút quân khỏi kharkov để củng cố mục tiêu \"giải phóng donbass\".\n",
      "4 === thông báo được đưa ra chỉ một ngày sau khi nga tuyên bố đang điều động binh sĩ tăng viện cho kharkov.\n",
      "5 === ukraine sau đó đẩy mạnh hoạt động tại mặt trận đông bắc, tuyên bố giành lại hơn 3.000km2 lãnh thổ chỉ sau 5 ngày và tiến vào kiểm soát toàn bộ tỉnh kharkov vào ngày 11-9.  tại mặt trận phía nam, phía ukraine cũng tuyên bố đã \"giải phóng\" được 500km2 trong hai tuần qua, tính từ khi mở đợt phản công.\n",
      "6 === các thông tin từ ukraine khiến mọi sự chú ý đều đổ dồn về nga, với nhiều ý kiến cho rằng matxcơva đang thất thế trên chiến trường vì nhiều lý do.\n",
      "7 === theo hãng tin reuters, sự im lặng mấy ngày qua của nga đã khiến một số nhà bình luận và những người theo chủ nghĩa dân tộc nga tức giận.\n",
      "8 === cuộc họp báo chiều 12-9 là lần đầu tiên điện kremlin lên tiếng về chiến dịch phản công của ukraine và hành động của nga trong vài ngày qua.\n",
      "9 === khi được hỏi liệu tổng thống putin có ra lệnh tổng động viên để đáp trả cuộc phản công của ukraine hay không, ông peskov đã chuyển đề nghị báo chí hỏi bộ quốc phòng.\n",
      "10 === cho đến thời điểm hiện tại, ông putin vẫn chưa huy động lực lượng dự bị khoảng 2 triệu binh sĩ.\n",
      "11 === ông peskov cũng cho biết nga không thấy có triển vọng về các cuộc đàm phán hòa bình với ukraine nhưng không nói thêm chi tiết.\n",
      "12 === trong diễn biến khác liên quan cùng ngày 12-9, bộ quốc phòng nga xác nhận các lực lượng không quân, tên lửa và pháo binh nga đang \"thực hiện các cuộc tấn công chính xác vào các đơn vị và lực lượng dự bị của lực lượng vũ trang ukraine\", bao gồm cả ở các trung tâm đô thị kupiansk và izium.\n",
      "13 === các cuộc tấn công cũng diễn ra ở mặt trận phía nam, tập trung vào thành phố kherson.\n",
      "14 === theo ước tính của nga, khoảng 300 binh sĩ ukraine đã thiệt mạng và 1.000 binh sĩ khác bị thương vì các đợt tập kích của nga trong 24 giờ qua.\n"
     ]
    }
   ],
   "source": [
    "content = \"\"\"\n",
    "Chiến dịch quân sự đặc biệt vẫn tiếp tục và nó sẽ không dừng cho đến khi đạt được các mục tiêu đã đặt ra từ đầu\", đại diện Điện Kremlin khẳng định trong cuộc họp báo chiều 12-9.\n",
    "\n",
    "Khi được hỏi rằng liệu Tổng thống Putin có tin tưởng các tướng lĩnh của ông hay không, ông Peskov đã uyển chuyển đổi vấn đề.\n",
    "\n",
    "\"Bất kỳ hoạt động quân sự nào thuộc chiến dịch quân sự đặc biệt ở Ukraine đều được báo cáo cho tổng tư lệnh tối cao (tổng thống Nga - PV). Tổng thống liên lạc suốt ngày đêm với bộ trưởng quốc phòng và các tướng lĩnh\", ông Peskov nói.\n",
    "\n",
    "Hồi cuối tuần trước, Bộ Quốc phòng Nga xác nhận đang rút quân khỏi Kharkov để củng cố mục tiêu \"giải phóng Donbass\". Thông báo được đưa ra chỉ một ngày sau khi Nga tuyên bố đang điều động binh sĩ tăng viện cho Kharkov.\n",
    "\n",
    "Ukraine sau đó đẩy mạnh hoạt động tại mặt trận đông bắc, tuyên bố giành lại hơn 3.000km2 lãnh thổ chỉ sau 5 ngày và tiến vào kiểm soát toàn bộ tỉnh Kharkov vào ngày 11-9.\n",
    "\n",
    "Tại mặt trận phía nam, phía Ukraine cũng tuyên bố đã \"giải phóng\" được 500km2 trong hai tuần qua, tính từ khi mở đợt phản công.\n",
    "\n",
    "Các thông tin từ Ukraine khiến mọi sự chú ý đều đổ dồn về Nga, với nhiều ý kiến cho rằng Matxcơva đang thất thế trên chiến trường vì nhiều lý do.\n",
    "\n",
    "Theo Hãng tin Reuters, sự im lặng mấy ngày qua của Nga đã khiến một số nhà bình luận và những người theo chủ nghĩa dân tộc Nga tức giận.\n",
    "\n",
    "Cuộc họp báo chiều 12-9 là lần đầu tiên Điện Kremlin lên tiếng về chiến dịch phản công của Ukraine và hành động của Nga trong vài ngày qua.\n",
    "\n",
    "Khi được hỏi liệu Tổng thống Putin có ra lệnh tổng động viên để đáp trả cuộc phản công của Ukraine hay không, ông Peskov đã chuyển đề nghị báo chí hỏi Bộ Quốc phòng. Cho đến thời điểm hiện tại, ông Putin vẫn chưa huy động lực lượng dự bị khoảng 2 triệu binh sĩ.\n",
    "\n",
    "Ông Peskov cũng cho biết Nga không thấy có triển vọng về các cuộc đàm phán hòa bình với Ukraine nhưng không nói thêm chi tiết.\n",
    "\n",
    "Trong diễn biến khác liên quan cùng ngày 12-9, Bộ Quốc phòng Nga xác nhận các lực lượng không quân, tên lửa và pháo binh Nga đang \"thực hiện các cuộc tấn công chính xác vào các đơn vị và lực lượng dự bị của lực lượng vũ trang Ukraine\", bao gồm cả ở các trung tâm đô thị Kupiansk và Izium.\n",
    "\n",
    "Các cuộc tấn công cũng diễn ra ở mặt trận phía nam, tập trung vào thành phố Kherson. Theo ước tính của Nga, khoảng 300 binh sĩ Ukraine đã thiệt mạng và 1.000 binh sĩ khác bị thương vì các đợt tập kích của Nga trong 24 giờ qua.\n",
    "\"\"\"\n",
    "\n",
    "contents_parsed = content.lower() \n",
    "contents_parsed = contents_parsed.replace('\\n', ' ')\n",
    "contents_parsed = contents_parsed.strip() \n",
    "\n",
    "import nltk\n",
    "sentences = nltk.sent_tokenize(contents_parsed)\n",
    "\n",
    "i = 0\n",
    "for sentence in sentences:\n",
    "    print(i,\"===\", sentence)\n",
    "    i += 1"
   ]
  },
  {
   "cell_type": "code",
   "execution_count": 14,
   "metadata": {},
   "outputs": [
    {
     "name": "stdout",
     "output_type": "stream",
     "text": [
      "\n",
      "\"Chiến dịch quân sự đặc biệt vẫn tiếp tục và nó sẽ không dừng cho đến khi đạt được các mục tiêu đã đặt ra từ đầu\", đại diện Điện Kremlin khẳng định trong cuộc họp báo chiều 12-9.\n",
      "\n",
      "Khi được hỏi rằng liệu Tổng thống Putin có tin tưởng các tướng lĩnh của ông hay không, ông Peskov đã uyển chuyển đổi vấn đề.\n",
      "\n",
      "\"Bất kỳ hoạt động quân sự nào thuộc chiến dịch quân sự đặc biệt ở Ukraine đều được báo cáo cho tổng tư lệnh tối cao (tổng thống Nga - PV). Tổng thống liên lạc suốt ngày đêm với bộ trưởng quốc phòng và các tướng lĩnh\", ông Peskov nói.\n",
      "\n",
      "Hồi cuối tuần trước, Bộ Quốc phòng Nga xác nhận đang rút quân khỏi Kharkov để củng cố mục tiêu \"giải phóng Donbass\". Thông báo được đưa ra chỉ một ngày sau khi Nga tuyên bố đang điều động binh sĩ tăng viện cho Kharkov.\n",
      "\n",
      "Ukraine sau đó đẩy mạnh hoạt động tại mặt trận đông bắc, tuyên bố giành lại hơn 3.000km2 lãnh thổ chỉ sau 5 ngày và tiến vào kiểm soát toàn bộ tỉnh Kharkov vào ngày 11-9.\n",
      "\n",
      "Tại mặt trận phía nam, phía Ukraine cũng tuyên bố đã \"giải phóng\" được 500km2 trong hai tuần qua, tính từ khi mở đợt phản công.\n",
      "\n",
      "Các thông tin từ Ukraine khiến mọi sự chú ý đều đổ dồn về Nga, với nhiều ý kiến cho rằng Matxcơva đang thất thế trên chiến trường vì nhiều lý do.\n",
      "\n",
      "Theo Hãng tin Reuters, sự im lặng mấy ngày qua của Nga đã khiến một số nhà bình luận và những người theo chủ nghĩa dân tộc Nga tức giận.\n",
      "\n",
      "Cuộc họp báo chiều 12-9 là lần đầu tiên Điện Kremlin lên tiếng về chiến dịch phản công của Ukraine và hành động của Nga trong vài ngày qua.\n",
      "\n",
      "Khi được hỏi liệu Tổng thống Putin có ra lệnh tổng động viên để đáp trả cuộc phản công của Ukraine hay không, ông Peskov đã chuyển đề nghị báo chí hỏi Bộ Quốc phòng. Cho đến thời điểm hiện tại, ông Putin vẫn chưa huy động lực lượng dự bị khoảng 2 triệu binh sĩ.\n",
      "\n",
      "Ông Peskov cũng cho biết Nga không thấy có triển vọng về các cuộc đàm phán hòa bình với Ukraine nhưng không nói thêm chi tiết.\n",
      "\n",
      "Trong diễn biến khác liên quan cùng ngày 12-9, Bộ Quốc phòng Nga xác nhận các lực lượng không quân, tên lửa và pháo binh Nga đang \"thực hiện các cuộc tấn công chính xác vào các đơn vị và lực lượng dự bị của lực lượng vũ trang Ukraine\", bao gồm cả ở các trung tâm đô thị Kupiansk và Izium.\n",
      "\n",
      "Các cuộc tấn công cũng diễn ra ở mặt trận phía nam, tập trung vào thành phố Kherson. Theo ước tính của Nga, khoảng 300 binh sĩ Ukraine đã thiệt mạng và 1.000 binh sĩ khác bị thương vì các đợt tập kích của Nga trong 24 giờ qua.\n",
      "\n"
     ]
    }
   ],
   "source": [
    "print(content)"
   ]
  },
  {
   "cell_type": "code",
   "execution_count": 11,
   "metadata": {},
   "outputs": [
    {
     "name": "stdout",
     "output_type": "stream",
     "text": [
      "15\n"
     ]
    }
   ],
   "source": [
    "from pyvi import ViTokenizer\n",
    "import numpy as np \n",
    "\n",
    "X = []\n",
    "for sentence in sentences:\n",
    "    \n",
    "    # sentence = gensim.utils.simple_preprocess(sentence)\n",
    "    # sentence = ' '.join(sentence)\n",
    "    sentence_tokenized = ViTokenizer.tokenize(sentence)\n",
    "    # print(sentence_tokenized)\n",
    "    words = sentence_tokenized.split(\" \")\n",
    "    sentence_vec = np.zeros((128))\n",
    "    for word in words:\n",
    "        if word in vocabulary:\n",
    "            sentence_vec+=w2v_model[word]\n",
    "    X.append(sentence_vec)\n",
    "\n",
    "print(len(X))"
   ]
  },
  {
   "cell_type": "code",
   "execution_count": 12,
   "metadata": {},
   "outputs": [
    {
     "name": "stdout",
     "output_type": "stream",
     "text": [
      "K-Means Clustering\n",
      "\n",
      "Cụm 1\n",
      "[ 1  2  3  4  6  7  8  9 10 11 13 14]\n",
      "Thứ tự trung bình:  7.33\n",
      "===================================================================================================================\n",
      "Cụm 2\n",
      "[0 5]\n",
      "Thứ tự trung bình:  2.5\n",
      "===================================================================================================================\n",
      "Cụm 3\n",
      "[12]\n",
      "Thứ tự trung bình:  12.0\n",
      "===================================================================================================================\n",
      "Các câu gần 3 tâm cụm nhất [ 4  5 12]\n",
      "\n",
      "Kết quả tóm tắt:\n",
      "\n",
      "(Câu 5) ukraine sau đó đẩy mạnh hoạt động tại mặt trận đông bắc, tuyên bố giành lại hơn 3.000km2 lãnh thổ chỉ sau 5 ngày và tiến vào kiểm soát toàn bộ tỉnh kharkov vào ngày 11-9.  tại mặt trận phía nam, phía ukraine cũng tuyên bố đã \"giải phóng\" được 500km2 trong hai tuần qua, tính từ khi mở đợt phản công. (Câu 4) thông báo được đưa ra chỉ một ngày sau khi nga tuyên bố đang điều động binh sĩ tăng viện cho kharkov. (Câu 12) trong diễn biến khác liên quan cùng ngày 12-9, bộ quốc phòng nga xác nhận các lực lượng không quân, tên lửa và pháo binh nga đang \"thực hiện các cuộc tấn công chính xác vào các đơn vị và lực lượng dự bị của lực lượng vũ trang ukraine\", bao gồm cả ở các trung tâm đô thị kupiansk và izium.\n"
     ]
    }
   ],
   "source": [
    "from sklearn.cluster import KMeans\n",
    "from sklearn.metrics import pairwise_distances_argmin_min\n",
    "\n",
    "n_clusters = 3\n",
    "kmeans = KMeans(n_clusters=n_clusters)\n",
    "kmeans = kmeans.fit(X)\n",
    "\n",
    "print(\"K-Means Clustering\\n\")\n",
    "avg = []\n",
    "for j in range(n_clusters):\n",
    "    print(\"Cụm\", j+1)\n",
    "    idx = np.where(kmeans.labels_ == j)[0]\n",
    "    print(idx)\n",
    "    avg.append(np.mean(idx))\n",
    "    print(\"Thứ tự trung bình: \", round(np.mean(idx), 2))\n",
    "    print(\"=\"*115)\n",
    "closest, _ = pairwise_distances_argmin_min(kmeans.cluster_centers_, X)\n",
    "print(\"Các câu gần\", n_clusters, \"tâm cụm nhất\",closest)\n",
    "ordering = sorted(range(n_clusters), key=lambda k: avg[k])\n",
    "# print(ordering)\n",
    "print(\"\\nKết quả tóm tắt:\\n\")\n",
    "summary = ' '.join([\"(Câu \" + str(closest[idx]) + \") \" + sentences[closest[idx]] for idx in ordering])\n",
    "print(summary)"
   ]
  },
  {
   "cell_type": "code",
   "execution_count": 13,
   "metadata": {},
   "outputs": [
    {
     "name": "stdout",
     "output_type": "stream",
     "text": [
      "Ukraine sau đó đẩy mạnh hoạt động tại mặt trận đông bắc, tuyên bố giành lại hơn 3. 000km2 lãnh thổ chỉ sau 5 ngày và tiến vào kiểm soát toàn bộ tỉnh kharkov vào ngày 11-9. Tại mặt trận phía nam, phía ukraine cũng tuyên bố đã \"giải phóng\" được 500km2 trong hai tuần qua, tính từ khi mở đợt phản công. Thông báo được đưa ra chỉ một ngày sau khi nga tuyên bố đang điều động binh sĩ tăng viện cho kharkov. Trong diễn biến khác liên quan cùng ngày 12-9, bộ quốc phòng nga xác nhận các lực lượng không quân, tên lửa và pháo binh nga đang \"thực hiện các cuộc tấn công chính xác vào các đơn vị và lực lượng dự bị của lực lượng vũ trang ukraine\", bao gồm cả ở các trung tâm đô thị kupiansk và izium. \n"
     ]
    }
   ],
   "source": [
    "summary2 = ' '.join([sentences[closest[idx]] for idx in ordering])\n",
    "summary2 = '. '.join(map(lambda s: s.strip().capitalize(), summary2.split('.')))\n",
    "print(summary2)"
   ]
  },
  {
   "cell_type": "code",
   "execution_count": null,
   "metadata": {},
   "outputs": [],
   "source": []
  }
 ],
 "metadata": {
  "kernelspec": {
   "display_name": "Python 3 (ipykernel)",
   "language": "python",
   "name": "python3"
  },
  "language_info": {
   "codemirror_mode": {
    "name": "ipython",
    "version": 3
   },
   "file_extension": ".py",
   "mimetype": "text/x-python",
   "name": "python",
   "nbconvert_exporter": "python",
   "pygments_lexer": "ipython3",
   "version": "3.9.13"
  }
 },
 "nbformat": 4,
 "nbformat_minor": 4
}
