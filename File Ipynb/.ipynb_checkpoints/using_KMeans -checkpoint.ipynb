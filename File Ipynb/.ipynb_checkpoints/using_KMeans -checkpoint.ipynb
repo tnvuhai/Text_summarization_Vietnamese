{
 "cells": [
  {
   "cell_type": "code",
   "execution_count": 4,
   "metadata": {},
   "outputs": [
    {
     "name": "stdout",
     "output_type": "stream",
     "text": [
      "K-Means\n",
      "173444\n"
     ]
    }
   ],
   "source": [
    "print(\"K-Means\")\n",
    "\n",
    "import gensim \n",
    "import gensim.models.keyedvectors as word2vec\n",
    "w2v_model = word2vec.KeyedVectors.load('w2v.model')\n",
    "\n",
    "vocabulary = []\n",
    "for word in w2v_model.index_to_key:\n",
    "    vocabulary.append(word)\n",
    "print(len(vocabulary))"
   ]
  },
  {
   "cell_type": "code",
   "execution_count": 5,
   "metadata": {},
   "outputs": [
    {
     "name": "stdout",
     "output_type": "stream",
     "text": [
      "0 === trong cuộc họp báo ngày 15-9, người phát ngôn bộ ngoại giao nga maria zakharova đã cảnh báo mỹ về các phản ứng tiềm tàng nếu cung cấp vũ khí tiên tiến cho ukraine.\n",
      "1 === \"nếu washington quyết định cung cấp tên lửa tầm xa hơn cho kiev, nước này sẽ vượt qua lằn ranh đỏ và sẽ trở thành một bên trực tiếp gây ra xung đột\", bà zakharova nêu vấn đề.\n",
      "2 === đại diện bộ ngoại giao nga kế đó nhấn mạnh nga có quyền \"bảo vệ lãnh thổ của mình\" nhưng không nói rõ sẽ làm gì nếu mỹ gửi thêm tên lửa cho ukraine.\n",
      "3 === washington đã công khai cung cấp cho ukraine đạn rocket gmlrs tiên tiến, có thể phóng từ các hệ thống himars và đánh trúng mục tiêu ở khoảng cách tối đa 80km.\n",
      "4 === hệ thống himars cũng có thể được sử dụng để bắn tên lửa chiến thuật atacms tầm bắn lên tới 300km.\n",
      "5 === hôm 19-8, một quan chức cấp cao của ukraine từ chối cho biết liệu kiev có atacms hay không.\n",
      "6 === các quan chức mỹ khẳng định ukraine đã cam kết không sử dụng đạn rocket của mỹ để tấn công các mục tiêu trên lãnh thổ nga.\n",
      "7 === ukraine đã yêu cầu và nhận được một lượng lớn vũ khí từ mỹ cùng các đồng minh phương tây kể từ khi xung đột bùng nổ.\n",
      "8 === theo tờ financial times, phương tây đang thảo luận về việc cung cấp các chiến đấu cơ cho ukraine trong trung và dài hạn.\n",
      "9 === ý tưởng này từng được nêu ra hồi tháng 7 nhưng không đi đến đâu vì một số nước lo ngại nga sẽ xem việc gửi chiến đấu cơ cho ukraine là sự can dự vào xung đột.\n",
      "10 === mỹ hiện là nước viện trợ quân sự nhiều nhất cho ukraine.\n",
      "11 === theo nhà trắng ngày 15-9, nước này đang chuẩn bị gửi thêm một gói viện trợ quân sự nữa cho kiev nhưng không tiết lộ chi tiết.\n",
      "12 === trong diễn biến khác liên quan, đức cũng thông báo sẽ gửi thêm hai hệ thống pháo phản lực phóng loạt mars ii cùng 200 đạn rocket cho ukraine.\n",
      "13 === đức đã từ chối cung cấp các xe tăng chiến đấu chủ lực cho ukraine với lý do chưa có nước nào làm như vậy.\n",
      "14 === trong thông báo ngày 15-9, berlin xác nhận sẽ cung cấp 50 xe bọc thép chở quân dingo cho ukraine.\n"
     ]
    }
   ],
   "source": [
    "content = \"\"\"\n",
    "\"Chiến dịch quân sự đặc biệt vẫn tiếp tục và nó sẽ không dừng cho đến khi đạt được các mục tiêu đã đặt ra từ đầu\", đại diện Điện Kremlin khẳng định trong cuộc họp báo chiều 12-9.\n",
    "\n",
    "Khi được hỏi rằng liệu Tổng thống Putin có tin tưởng các tướng lĩnh của ông hay không, ông Peskov đã uyển chuyển đổi vấn đề.\n",
    "\n",
    "\"Bất kỳ hoạt động quân sự nào thuộc chiến dịch quân sự đặc biệt ở Ukraine đều được báo cáo cho tổng tư lệnh tối cao (tổng thống Nga - PV). Tổng thống liên lạc suốt ngày đêm với bộ trưởng quốc phòng và các tướng lĩnh\", ông Peskov nói.\n",
    "\n",
    "Hồi cuối tuần trước, Bộ Quốc phòng Nga xác nhận đang rút quân khỏi Kharkov để củng cố mục tiêu \"giải phóng Donbass\". Thông báo được đưa ra chỉ một ngày sau khi Nga tuyên bố đang điều động binh sĩ tăng viện cho Kharkov.\n",
    "\n",
    "Ukraine sau đó đẩy mạnh hoạt động tại mặt trận đông bắc, tuyên bố giành lại hơn 3.000km2 lãnh thổ chỉ sau 5 ngày và tiến vào kiểm soát toàn bộ tỉnh Kharkov vào ngày 11-9.\n",
    "\n",
    "Tại mặt trận phía nam, phía Ukraine cũng tuyên bố đã \"giải phóng\" được 500km2 trong hai tuần qua, tính từ khi mở đợt phản công.\n",
    "\n",
    "Các thông tin từ Ukraine khiến mọi sự chú ý đều đổ dồn về Nga, với nhiều ý kiến cho rằng Matxcơva đang thất thế trên chiến trường vì nhiều lý do.\n",
    "\n",
    "Theo Hãng tin Reuters, sự im lặng mấy ngày qua của Nga đã khiến một số nhà bình luận và những người theo chủ nghĩa dân tộc Nga tức giận.\n",
    "\n",
    "Cuộc họp báo chiều 12-9 là lần đầu tiên Điện Kremlin lên tiếng về chiến dịch phản công của Ukraine và hành động của Nga trong vài ngày qua.\n",
    "\n",
    "Khi được hỏi liệu Tổng thống Putin có ra lệnh tổng động viên để đáp trả cuộc phản công của Ukraine hay không, ông Peskov đã chuyển đề nghị báo chí hỏi Bộ Quốc phòng. Cho đến thời điểm hiện tại, ông Putin vẫn chưa huy động lực lượng dự bị khoảng 2 triệu binh sĩ.\n",
    "\n",
    "Ông Peskov cũng cho biết Nga không thấy có triển vọng về các cuộc đàm phán hòa bình với Ukraine nhưng không nói thêm chi tiết.\n",
    "\n",
    "Trong diễn biến khác liên quan cùng ngày 12-9, Bộ Quốc phòng Nga xác nhận các lực lượng không quân, tên lửa và pháo binh Nga đang \"thực hiện các cuộc tấn công chính xác vào các đơn vị và lực lượng dự bị của lực lượng vũ trang Ukraine\", bao gồm cả ở các trung tâm đô thị Kupiansk và Izium.\n",
    "\n",
    "Các cuộc tấn công cũng diễn ra ở mặt trận phía nam, tập trung vào thành phố Kherson. Theo ước tính của Nga, khoảng 300 binh sĩ Ukraine đã thiệt mạng và 1.000 binh sĩ khác bị thương vì các đợt tập kích của Nga trong 24 giờ qua.\n",
    "\"\"\"\n",
    "\n",
    "contents_parsed = content.lower() \n",
    "contents_parsed = contents_parsed.replace('\\n', ' ')\n",
    "contents_parsed = contents_parsed.strip() \n",
    "\n",
    "import nltk\n",
    "sentences = nltk.sent_tokenize(contents_parsed)\n",
    "\n",
    "i = 0\n",
    "for sentence in sentences:\n",
    "    print(i,\"===\", sentence)\n",
    "    i += 1"
   ]
  },
  {
   "cell_type": "code",
   "execution_count": 6,
   "metadata": {},
   "outputs": [
    {
     "name": "stdout",
     "output_type": "stream",
     "text": [
      "15\n"
     ]
    }
   ],
   "source": [
    "from pyvi import ViTokenizer\n",
    "import numpy as np \n",
    "\n",
    "X = []\n",
    "for sentence in sentences:\n",
    "    \n",
    "    # sentence = gensim.utils.simple_preprocess(sentence)\n",
    "    # sentence = ' '.join(sentence)\n",
    "    sentence_tokenized = ViTokenizer.tokenize(sentence)\n",
    "    # print(sentence_tokenized)\n",
    "    words = sentence_tokenized.split(\" \")\n",
    "    sentence_vec = np.zeros((128))\n",
    "    for word in words:\n",
    "        if word in vocabulary:\n",
    "            sentence_vec+=w2v_model[word]\n",
    "    X.append(sentence_vec)\n",
    "\n",
    "print(len(X))"
   ]
  },
  {
   "cell_type": "code",
   "execution_count": 7,
   "metadata": {},
   "outputs": [
    {
     "name": "stdout",
     "output_type": "stream",
     "text": [
      "K-Means Clustering\n",
      "\n",
      "Cụm 1\n",
      "[1 2 9]\n",
      "Thứ tự trung bình:  4.0\n",
      "===================================================================================================================\n",
      "Cụm 2\n",
      "[ 0  3  6  7  8 11 12 13]\n",
      "Thứ tự trung bình:  7.5\n",
      "===================================================================================================================\n",
      "Cụm 3\n",
      "[ 4  5 10 14]\n",
      "Thứ tự trung bình:  8.25\n",
      "===================================================================================================================\n",
      "Các câu gần 3 tâm cụm nhất [9 6 5]\n",
      "\n",
      "Kết quả tóm tắt:\n",
      "\n",
      "(Câu 9) ý tưởng này từng được nêu ra hồi tháng 7 nhưng không đi đến đâu vì một số nước lo ngại nga sẽ xem việc gửi chiến đấu cơ cho ukraine là sự can dự vào xung đột. (Câu 6) các quan chức mỹ khẳng định ukraine đã cam kết không sử dụng đạn rocket của mỹ để tấn công các mục tiêu trên lãnh thổ nga. (Câu 5) hôm 19-8, một quan chức cấp cao của ukraine từ chối cho biết liệu kiev có atacms hay không.\n"
     ]
    }
   ],
   "source": [
    "from sklearn.cluster import KMeans\n",
    "from sklearn.metrics import pairwise_distances_argmin_min\n",
    "\n",
    "n_clusters = 3\n",
    "kmeans = KMeans(n_clusters=n_clusters)\n",
    "kmeans = kmeans.fit(X)\n",
    "\n",
    "print(\"K-Means Clustering\\n\")\n",
    "avg = []\n",
    "for j in range(n_clusters):\n",
    "    print(\"Cụm\", j+1)\n",
    "    idx = np.where(kmeans.labels_ == j)[0]\n",
    "    print(idx)\n",
    "    avg.append(np.mean(idx))\n",
    "    print(\"Thứ tự trung bình: \", round(np.mean(idx), 2))\n",
    "    print(\"=\"*115)\n",
    "closest, _ = pairwise_distances_argmin_min(kmeans.cluster_centers_, X)\n",
    "print(\"Các câu gần\", n_clusters, \"tâm cụm nhất\",closest)\n",
    "ordering = sorted(range(n_clusters), key=lambda k: avg[k])\n",
    "# print(ordering)\n",
    "print(\"\\nKết quả tóm tắt:\\n\")\n",
    "summary = ' '.join([\"(Câu \" + str(closest[idx]) + \") \" + sentences[closest[idx]] for idx in ordering])\n",
    "print(summary)"
   ]
  },
  {
   "cell_type": "code",
   "execution_count": 8,
   "metadata": {},
   "outputs": [
    {
     "name": "stdout",
     "output_type": "stream",
     "text": [
      "Ý tưởng này từng được nêu ra hồi tháng 7 nhưng không đi đến đâu vì một số nước lo ngại nga sẽ xem việc gửi chiến đấu cơ cho ukraine là sự can dự vào xung đột. Các quan chức mỹ khẳng định ukraine đã cam kết không sử dụng đạn rocket của mỹ để tấn công các mục tiêu trên lãnh thổ nga. Hôm 19-8, một quan chức cấp cao của ukraine từ chối cho biết liệu kiev có atacms hay không. \n"
     ]
    }
   ],
   "source": [
    "summary2 = ' '.join([sentences[closest[idx]] for idx in ordering])\n",
    "summary2 = '. '.join(map(lambda s: s.strip().capitalize(), summary2.split('.')))\n",
    "print(summary2)"
   ]
  },
  {
   "cell_type": "code",
   "execution_count": null,
   "metadata": {},
   "outputs": [],
   "source": []
  }
 ],
 "metadata": {
  "kernelspec": {
   "display_name": "Python 3 (ipykernel)",
   "language": "python",
   "name": "python3"
  },
  "language_info": {
   "codemirror_mode": {
    "name": "ipython",
    "version": 3
   },
   "file_extension": ".py",
   "mimetype": "text/x-python",
   "name": "python",
   "nbconvert_exporter": "python",
   "pygments_lexer": "ipython3",
   "version": "3.9.13"
  }
 },
 "nbformat": 4,
 "nbformat_minor": 4
}
