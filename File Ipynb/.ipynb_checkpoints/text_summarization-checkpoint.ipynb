{
 "cells": [
  {
   "cell_type": "code",
   "execution_count": 1,
   "metadata": {},
   "outputs": [
    {
     "name": "stdout",
     "output_type": "stream",
     "text": [
      "Start\n",
      "173444\n"
     ]
    }
   ],
   "source": [
    "print(\"Start\")\n",
    "\n",
    "import gensim \n",
    "import gensim.models.keyedvectors as word2vec\n",
    "w2v_model = word2vec.KeyedVectors.load('w2v.model')\n",
    "\n",
    "vocabulary = []\n",
    "for word in w2v_model.index_to_key:\n",
    "    vocabulary.append(word)\n",
    "print(len(vocabulary))"
   ]
  },
  {
   "cell_type": "code",
   "execution_count": 2,
   "metadata": {},
   "outputs": [],
   "source": [
    "content = \"\"\"\n",
    "Nếu các báo cáo trở thành sự thật, iPhone 14 Pro và Pro Max có thể gồm một trong những cải tiến camera lớn nhất mà người dùng sẽ thấy trên iPhone trong nhiều năm. Chỉ điều đó thôi cũng có thể khiến chúng trở nên hấp dẫn đối với những người đang tìm kiếm một thiết bị mới trên thị trường.\n",
    "\n",
    "Tuy nhiên, vấn đề là iPhone 14 Pro Max cuối cùng có thể bị nhiều thông tin xáo trộn. Những người mua sắm chỉ quan tâm đến việc có máy ảnh tốt nhất có thể mua iPhone 14 Pro rẻ hơn, trong khi những người chủ yếu muốn có màn hình lớn có thể chọn iPhone 14 Max được đồn đại. Cả hai thiết bị có thể sẽ rẻ hơn iPhone 14 Pro Max.\n",
    "\n",
    "Sự ra mắt cũng sẽ đến vào thời điểm mà mọi người dường như đang chi tiêu ít hơn cho thiết bị di động và cẩn thận hơn trong việc mua hàng của họ. Các lô hàng điện thoại thông minh dự kiến ​​sẽ giảm 3,5% vào năm 2022, theo ước tính từ Tập đoàn Dữ liệu Quốc tế được công bố vào tháng Sáu. Tập đoàn NPD đã báo cáo vào tháng 5 rằng hơn 8/10 người tiêu dùng đang có kế hoạch đánh giá lại mức chi tiêu cho sản phẩm của họ trong vòng 3 đến 6 tháng tới. Một cuộc khảo sát gần đây của NPD cũng chỉ ra rằng người tiêu dùng có kế hoạch tìm kiếm các mặt hàng rẻ hơn. Đồng thời cũng tìm kiếm các chương trình khuyến mãi và cắt giảm các giao dịch mua tổng thể trong vài tháng tới.\n",
    "Những yếu tố này có thể khiến việc thuyết phục người tiêu dùng chi hơn 1.000 USD cho một chiếc điện thoại mới trở nên khó khăn hơn. Đặc biệt là khi họ có thể nhận được một số lợi ích tương tự (màn hình lớn hơn hoặc camera ba ống kính) trên các mẫu rẻ hơn. Với iPhone 14 Pro Max, Apple có thể sẽ dựa vào thực tế là người tiêu dùng sẵn sàng trả một khoản phí cao hơn để có được cả màn hình lớn hơn và máy ảnh tốt hơn.\n",
    "Nhưng nếu Apple phát hành phiên bản 6,7 inch của iPhone tiêu chuẩn, giống như các báo cáo từ Nikkei Asian Review, Bloomberg và Ming-Chi Kuo chỉ ra, iPhone 14 Pro Max có thể cảm thấy ít độc đáo hơn trong dòng sản phẩm năm nay. IPhone 14 Max được đồn đại có thể sẽ không có các tính năng bổ sung như iPhone Pro của Apple, chẳng hạn như camera ba ống kính và màn hình có tốc độ làm mới cao hơn để cuộn mượt mà hơn. Nhưng nó có thể đủ hấp dẫn để lôi kéo những người mua sắm chỉ đơn giản là muốn có màn hình lớn hơn và không quan tâm nhiều đến việc có ống kính tele.\n",
    "\"\"\""
   ]
  },
  {
   "cell_type": "code",
   "execution_count": 3,
   "metadata": {},
   "outputs": [
    {
     "name": "stdout",
     "output_type": "stream",
     "text": [
      "\n",
      "Nếu các báo cáo trở thành sự thật, iPhone 14 Pro và Pro Max có thể gồm một trong những cải tiến camera lớn nhất mà người dùng sẽ thấy trên iPhone trong nhiều năm. Chỉ điều đó thôi cũng có thể khiến chúng trở nên hấp dẫn đối với những người đang tìm kiếm một thiết bị mới trên thị trường.\n",
      "\n",
      "Tuy nhiên, vấn đề là iPhone 14 Pro Max cuối cùng có thể bị nhiều thông tin xáo trộn. Những người mua sắm chỉ quan tâm đến việc có máy ảnh tốt nhất có thể mua iPhone 14 Pro rẻ hơn, trong khi những người chủ yếu muốn có màn hình lớn có thể chọn iPhone 14 Max được đồn đại. Cả hai thiết bị có thể sẽ rẻ hơn iPhone 14 Pro Max.\n",
      "\n",
      "Sự ra mắt cũng sẽ đến vào thời điểm mà mọi người dường như đang chi tiêu ít hơn cho thiết bị di động và cẩn thận hơn trong việc mua hàng của họ. Các lô hàng điện thoại thông minh dự kiến ​​sẽ giảm 3,5% vào năm 2022, theo ước tính từ Tập đoàn Dữ liệu Quốc tế được công bố vào tháng Sáu. Tập đoàn NPD đã báo cáo vào tháng 5 rằng hơn 8/10 người tiêu dùng đang có kế hoạch đánh giá lại mức chi tiêu cho sản phẩm của họ trong vòng 3 đến 6 tháng tới. Một cuộc khảo sát gần đây của NPD cũng chỉ ra rằng người tiêu dùng có kế hoạch tìm kiếm các mặt hàng rẻ hơn. Đồng thời cũng tìm kiếm các chương trình khuyến mãi và cắt giảm các giao dịch mua tổng thể trong vài tháng tới.\n",
      "Những yếu tố này có thể khiến việc thuyết phục người tiêu dùng chi hơn 1.000 USD cho một chiếc điện thoại mới trở nên khó khăn hơn. Đặc biệt là khi họ có thể nhận được một số lợi ích tương tự (màn hình lớn hơn hoặc camera ba ống kính) trên các mẫu rẻ hơn. Với iPhone 14 Pro Max, Apple có thể sẽ dựa vào thực tế là người tiêu dùng sẵn sàng trả một khoản phí cao hơn để có được cả màn hình lớn hơn và máy ảnh tốt hơn.\n",
      "Nhưng nếu Apple phát hành phiên bản 6,7 inch của iPhone tiêu chuẩn, giống như các báo cáo từ Nikkei Asian Review, Bloomberg và Ming-Chi Kuo chỉ ra, iPhone 14 Pro Max có thể cảm thấy ít độc đáo hơn trong dòng sản phẩm năm nay. IPhone 14 Max được đồn đại có thể sẽ không có các tính năng bổ sung như iPhone Pro của Apple, chẳng hạn như camera ba ống kính và màn hình có tốc độ làm mới cao hơn để cuộn mượt mà hơn. Nhưng nó có thể đủ hấp dẫn để lôi kéo những người mua sắm chỉ đơn giản là muốn có màn hình lớn hơn và không quan tâm nhiều đến việc có ống kính tele.\n",
      "\n"
     ]
    }
   ],
   "source": [
    "print(content)"
   ]
  },
  {
   "cell_type": "code",
   "execution_count": 4,
   "metadata": {},
   "outputs": [],
   "source": [
    "contents_parsed = content.lower() \n",
    "contents_parsed = contents_parsed.replace('\\n', ' ')\n",
    "contents_parsed = contents_parsed.strip() "
   ]
  },
  {
   "cell_type": "code",
   "execution_count": 5,
   "metadata": {},
   "outputs": [
    {
     "name": "stdout",
     "output_type": "stream",
     "text": [
      "nếu các báo cáo trở thành sự thật, iphone 14 pro và pro max có thể gồm một trong những cải tiến camera lớn nhất mà người dùng sẽ thấy trên iphone trong nhiều năm. chỉ điều đó thôi cũng có thể khiến chúng trở nên hấp dẫn đối với những người đang tìm kiếm một thiết bị mới trên thị trường.  tuy nhiên, vấn đề là iphone 14 pro max cuối cùng có thể bị nhiều thông tin xáo trộn. những người mua sắm chỉ quan tâm đến việc có máy ảnh tốt nhất có thể mua iphone 14 pro rẻ hơn, trong khi những người chủ yếu muốn có màn hình lớn có thể chọn iphone 14 max được đồn đại. cả hai thiết bị có thể sẽ rẻ hơn iphone 14 pro max.  sự ra mắt cũng sẽ đến vào thời điểm mà mọi người dường như đang chi tiêu ít hơn cho thiết bị di động và cẩn thận hơn trong việc mua hàng của họ. các lô hàng điện thoại thông minh dự kiến ​​sẽ giảm 3,5% vào năm 2022, theo ước tính từ tập đoàn dữ liệu quốc tế được công bố vào tháng sáu. tập đoàn npd đã báo cáo vào tháng 5 rằng hơn 8/10 người tiêu dùng đang có kế hoạch đánh giá lại mức chi tiêu cho sản phẩm của họ trong vòng 3 đến 6 tháng tới. một cuộc khảo sát gần đây của npd cũng chỉ ra rằng người tiêu dùng có kế hoạch tìm kiếm các mặt hàng rẻ hơn. đồng thời cũng tìm kiếm các chương trình khuyến mãi và cắt giảm các giao dịch mua tổng thể trong vài tháng tới. những yếu tố này có thể khiến việc thuyết phục người tiêu dùng chi hơn 1.000 usd cho một chiếc điện thoại mới trở nên khó khăn hơn. đặc biệt là khi họ có thể nhận được một số lợi ích tương tự (màn hình lớn hơn hoặc camera ba ống kính) trên các mẫu rẻ hơn. với iphone 14 pro max, apple có thể sẽ dựa vào thực tế là người tiêu dùng sẵn sàng trả một khoản phí cao hơn để có được cả màn hình lớn hơn và máy ảnh tốt hơn. nhưng nếu apple phát hành phiên bản 6,7 inch của iphone tiêu chuẩn, giống như các báo cáo từ nikkei asian review, bloomberg và ming-chi kuo chỉ ra, iphone 14 pro max có thể cảm thấy ít độc đáo hơn trong dòng sản phẩm năm nay. iphone 14 max được đồn đại có thể sẽ không có các tính năng bổ sung như iphone pro của apple, chẳng hạn như camera ba ống kính và màn hình có tốc độ làm mới cao hơn để cuộn mượt mà hơn. nhưng nó có thể đủ hấp dẫn để lôi kéo những người mua sắm chỉ đơn giản là muốn có màn hình lớn hơn và không quan tâm nhiều đến việc có ống kính tele.\n"
     ]
    }
   ],
   "source": [
    "print(contents_parsed)"
   ]
  },
  {
   "cell_type": "code",
   "execution_count": 6,
   "metadata": {},
   "outputs": [],
   "source": [
    "import nltk\n",
    "sentences = nltk.sent_tokenize(contents_parsed)"
   ]
  },
  {
   "cell_type": "code",
   "execution_count": 7,
   "metadata": {},
   "outputs": [
    {
     "name": "stdout",
     "output_type": "stream",
     "text": [
      "['nếu các báo cáo trở thành sự thật, iphone 14 pro và pro max có thể gồm một trong những cải tiến camera lớn nhất mà người dùng sẽ thấy trên iphone trong nhiều năm.', 'chỉ điều đó thôi cũng có thể khiến chúng trở nên hấp dẫn đối với những người đang tìm kiếm một thiết bị mới trên thị trường.', 'tuy nhiên, vấn đề là iphone 14 pro max cuối cùng có thể bị nhiều thông tin xáo trộn.', 'những người mua sắm chỉ quan tâm đến việc có máy ảnh tốt nhất có thể mua iphone 14 pro rẻ hơn, trong khi những người chủ yếu muốn có màn hình lớn có thể chọn iphone 14 max được đồn đại.', 'cả hai thiết bị có thể sẽ rẻ hơn iphone 14 pro max.', 'sự ra mắt cũng sẽ đến vào thời điểm mà mọi người dường như đang chi tiêu ít hơn cho thiết bị di động và cẩn thận hơn trong việc mua hàng của họ.', 'các lô hàng điện thoại thông minh dự kiến \\u200b\\u200bsẽ giảm 3,5% vào năm 2022, theo ước tính từ tập đoàn dữ liệu quốc tế được công bố vào tháng sáu.', 'tập đoàn npd đã báo cáo vào tháng 5 rằng hơn 8/10 người tiêu dùng đang có kế hoạch đánh giá lại mức chi tiêu cho sản phẩm của họ trong vòng 3 đến 6 tháng tới.', 'một cuộc khảo sát gần đây của npd cũng chỉ ra rằng người tiêu dùng có kế hoạch tìm kiếm các mặt hàng rẻ hơn.', 'đồng thời cũng tìm kiếm các chương trình khuyến mãi và cắt giảm các giao dịch mua tổng thể trong vài tháng tới.', 'những yếu tố này có thể khiến việc thuyết phục người tiêu dùng chi hơn 1.000 usd cho một chiếc điện thoại mới trở nên khó khăn hơn.', 'đặc biệt là khi họ có thể nhận được một số lợi ích tương tự (màn hình lớn hơn hoặc camera ba ống kính) trên các mẫu rẻ hơn.', 'với iphone 14 pro max, apple có thể sẽ dựa vào thực tế là người tiêu dùng sẵn sàng trả một khoản phí cao hơn để có được cả màn hình lớn hơn và máy ảnh tốt hơn.', 'nhưng nếu apple phát hành phiên bản 6,7 inch của iphone tiêu chuẩn, giống như các báo cáo từ nikkei asian review, bloomberg và ming-chi kuo chỉ ra, iphone 14 pro max có thể cảm thấy ít độc đáo hơn trong dòng sản phẩm năm nay.', 'iphone 14 max được đồn đại có thể sẽ không có các tính năng bổ sung như iphone pro của apple, chẳng hạn như camera ba ống kính và màn hình có tốc độ làm mới cao hơn để cuộn mượt mà hơn.', 'nhưng nó có thể đủ hấp dẫn để lôi kéo những người mua sắm chỉ đơn giản là muốn có màn hình lớn hơn và không quan tâm nhiều đến việc có ống kính tele.']\n"
     ]
    }
   ],
   "source": [
    "print(sentences)"
   ]
  },
  {
   "cell_type": "code",
   "execution_count": 8,
   "metadata": {},
   "outputs": [
    {
     "name": "stdout",
     "output_type": "stream",
     "text": [
      "['0', '1', '2', '3', '4', '5', '6', '7', '8', '9', '10', '11', '12', '13', '14', '15']\n"
     ]
    }
   ],
   "source": [
    "keys = []\n",
    "for i in range(len(sentences)):\n",
    "    keys.append(str(i))\n",
    "print(keys)"
   ]
  },
  {
   "cell_type": "code",
   "execution_count": 9,
   "metadata": {},
   "outputs": [],
   "source": [
    "from pyvi import ViTokenizer\n",
    "import numpy as np\n",
    "\n",
    "embedding_clusters = []\n",
    "sent_clusters = []\n",
    "i = 0\n",
    "for sentence in sentences:\n",
    "    embeddings = []\n",
    "    sent = []\n",
    "        \n",
    "    sentence = gensim.utils.simple_preprocess(sentence)\n",
    "    sentence = ' '.join(sentence)\n",
    "    sentence_tokenized = ViTokenizer.tokenize(sentence)\n",
    "    \n",
    "    words = sentence_tokenized.split(\" \")\n",
    "    sentence_vec = np.zeros((128))\n",
    "    for word in words:\n",
    "        if word in vocabulary:\n",
    "            sentence_vec+=w2v_model[word]\n",
    "    embeddings.append(sentence_vec)\n",
    "            \n",
    "    sent.append(str(i))\n",
    "    \n",
    "    embedding_clusters.append(embeddings)\n",
    "    sent_clusters.append(sent)\n",
    "    \n",
    "    i+=1"
   ]
  },
  {
   "cell_type": "code",
   "execution_count": 10,
   "metadata": {},
   "outputs": [
    {
     "name": "stdout",
     "output_type": "stream",
     "text": [
      "[['0'], ['1'], ['2'], ['3'], ['4'], ['5'], ['6'], ['7'], ['8'], ['9'], ['10'], ['11'], ['12'], ['13'], ['14'], ['15']]\n"
     ]
    }
   ],
   "source": [
    "print(sent_clusters)"
   ]
  },
  {
   "cell_type": "code",
   "execution_count": 11,
   "metadata": {},
   "outputs": [
    {
     "name": "stdout",
     "output_type": "stream",
     "text": [
      "(16, 1, 128)\n"
     ]
    },
    {
     "name": "stderr",
     "output_type": "stream",
     "text": [
      "E:\\anaconda3\\envs\\NLP\\lib\\site-packages\\sklearn\\manifold\\_t_sne.py:810: FutureWarning: The default learning rate in TSNE will change from 200.0 to 'auto' in 1.2.\n",
      "  warnings.warn(\n",
      "E:\\anaconda3\\envs\\NLP\\lib\\site-packages\\sklearn\\manifold\\_t_sne.py:996: FutureWarning: The PCA initialization in TSNE will change to have the standard deviation of PC1 equal to 1e-4 in 1.2. This will ensure better convergence.\n",
      "  warnings.warn(\n",
      "No artists with labels found to put in legend.  Note that artists whose label start with an underscore are ignored when legend() is called with no argument.\n"
     ]
    },
    {
     "data": {
      "image/png": "[encoded data removed]",
      "text/plain": [
       "<Figure size 1500x800 with 1 Axes>"
      ]
     },
     "metadata": {},
     "output_type": "display_data"
    }
   ],
   "source": [
    "from sklearn.manifold import TSNE\n",
    "import numpy as np\n",
    "\n",
    "embedding_clusters = np.array(embedding_clusters)\n",
    "print(embedding_clusters.shape)\n",
    "n, m, k = embedding_clusters.shape\n",
    "tsne_model_en_2d = TSNE(perplexity=15, n_components=2, init='pca', n_iter=3500, random_state=32)\n",
    "embeddings_en_2d = np.array(tsne_model_en_2d.fit_transform(embedding_clusters.reshape(n * m, k))).reshape(n, m, 2)\n",
    "\n",
    "\n",
    "import matplotlib.pyplot as plt\n",
    "import matplotlib.cm as cm\n",
    "# % matplotlib inline\n",
    "\n",
    "\n",
    "def tsne_plot_similar_words(title, labels, embedding_clusters, sent_clusters, a, filename=None):\n",
    "    plt.figure(figsize=(15, 8))\n",
    "    colors = cm.rainbow(np.linspace(0, 1, len(labels)))\n",
    "    for label, embeddings, words, color in zip(labels, embedding_clusters, sent_clusters, colors):\n",
    "        x = embeddings[:, 0]\n",
    "        y = embeddings[:, 1]\n",
    "        plt.scatter(x, y, c=np.array([color,]), alpha=a)\n",
    "        for i, word in enumerate(words):\n",
    "            plt.annotate(word, alpha=0.5, xy=(x[i], y[i]), xytext=(5, 2),\n",
    "                         textcoords='offset points', ha='right', va='bottom', size=12)\n",
    "    plt.legend(loc=4)\n",
    "    plt.title(title)\n",
    "    plt.grid(True)\n",
    "    if filename:\n",
    "        plt.savefig(filename, format='png', dpi=150, bbox_inches='tight')\n",
    "    plt.show()\n",
    "\n",
    "\n",
    "tsne_plot_similar_words('Phân bố các câu trong đoạn văn', keys, embeddings_en_2d, sent_clusters, 0.7,\n",
    "                        'output.png')"
   ]
  },
  {
   "cell_type": "code",
   "execution_count": 12,
   "metadata": {},
   "outputs": [
    {
     "name": "stdout",
     "output_type": "stream",
     "text": [
      "nếu các báo_cáo trở_thành sự_thật iphone pro và pro max có_thể gồm một trong những cải_tiến camera lớn nhất mà người dùng sẽ thấy trên iphone trong nhiều năm\n",
      "chỉ điều đó thôi cũng có_thể khiến chúng trở_nên hấp_dẫn đối_với những người đang tìm_kiếm một thiết_bị mới trên thị_trường\n",
      "tuy_nhiên vấn_đề là iphone pro max cuối_cùng có_thể bị nhiều thông_tin xáo_trộn\n",
      "những người mua_sắm chỉ quan_tâm đến việc có máy_ảnh tốt nhất có_thể mua iphone pro rẻ hơn trong khi những người chủ_yếu muốn có màn_hình lớn có_thể chọn iphone max được đồn_đại\n",
      "cả hai thiết_bị có_thể sẽ rẻ hơn iphone pro max\n",
      "sự ra_mắt cũng sẽ đến vào thời_điểm mà mọi người dường_như đang chi_tiêu ít hơn cho thiết_bị di_động và cẩn_thận hơn trong việc mua hàng của họ\n",
      "các lô hàng điện_thoại thông_minh dự_kiến sẽ giảm vào năm theo ước_tính từ tập_đoàn dữ_liệu quốc_tế được công_bố vào tháng sáu\n",
      "tập_đoàn npd đã báo_cáo vào tháng rằng hơn người tiêu_dùng đang có kế_hoạch đánh_giá lại mức chi_tiêu cho sản_phẩm của họ trong vòng đến tháng tới\n",
      "một cuộc khảo_sát gần đây của npd cũng chỉ ra rằng người tiêu_dùng có kế_hoạch tìm_kiếm các mặt_hàng rẻ hơn\n",
      "đồng_thời cũng tìm_kiếm các chương_trình khuyến_mãi và cắt_giảm các giao_dịch mua tổng_thể trong vài tháng tới\n",
      "những yếu_tố này có_thể khiến việc thuyết_phục người tiêu_dùng chi hơn usd cho một chiếc điện_thoại mới trở_nên khó_khăn hơn\n",
      "đặc_biệt là khi họ có_thể nhận được một_số lợi_ích tương_tự màn_hình lớn hơn hoặc camera ba ống_kính trên các mẫu rẻ hơn\n",
      "với iphone pro max apple có_thể sẽ dựa vào thực_tế là người tiêu_dùng sẵn_sàng trả một khoản phí cao hơn để có được cả màn_hình lớn hơn và máy_ảnh tốt hơn\n",
      "nhưng nếu apple phát_hành phiên_bản inch của iphone tiêu_chuẩn giống như các báo_cáo từ nikkei asian review bloomberg và ming chi kuo chỉ ra iphone pro max có_thể cảm_thấy ít độc_đáo hơn trong dòng sản_phẩm năm nay\n",
      "iphone max được đồn_đại có_thể sẽ không có các tính_năng bổ_sung như iphone pro của apple chẳng_hạn như camera ba ống_kính và màn_hình có tốc_độ làm mới cao hơn để cuộn mượt mà hơn\n",
      "nhưng nó có_thể đủ hấp_dẫn để lôi_kéo những người mua_sắm chỉ đơn_giản là muốn có màn_hình lớn hơn và không quan_tâm nhiều đến việc có ống_kính tele\n"
     ]
    }
   ],
   "source": [
    "X = []\n",
    "for sentence in sentences:\n",
    "    \n",
    "    sentence = gensim.utils.simple_preprocess(sentence)\n",
    "    sentence = ' '.join(sentence)\n",
    "    sentence_tokenized = ViTokenizer.tokenize(sentence)\n",
    "    print(sentence_tokenized)\n",
    "    words = sentence_tokenized.split(\" \")\n",
    "    sentence_vec = np.zeros((128))\n",
    "    for word in words:\n",
    "        if word in vocabulary:\n",
    "            sentence_vec+=w2v_model[word]\n",
    "    X.append(sentence_vec)"
   ]
  },
  {
   "cell_type": "code",
   "execution_count": 37,
   "metadata": {},
   "outputs": [],
   "source": [
    "from sklearn.cluster import KMeans\n",
    "\n",
    "n_clusters = 5\n",
    "kmeans = KMeans(n_clusters=n_clusters)\n",
    "kmeans = kmeans.fit(X)"
   ]
  },
  {
   "cell_type": "code",
   "execution_count": 70,
   "metadata": {},
   "outputs": [],
   "source": [
    "from sklearn.metrics import pairwise_distances_argmin_min\n",
    "\n",
    "avg = []\n",
    "for j in range(n_clusters):\n",
    "    idx = np.where(kmeans.labels_ == j)[0]\n",
    "    avg.append(np.mean(idx))\n",
    "closest, _ = pairwise_distances_argmin_min(kmeans.cluster_centers_, X)\n",
    "ordering = sorted(range(n_clusters), key=lambda k: avg[k])\n",
    "summary = ' '.join([sentences[closest[idx]] for idx in ordering])"
   ]
  },
  {
   "cell_type": "code",
   "execution_count": 55,
   "metadata": {},
   "outputs": [
    {
     "name": "stdout",
     "output_type": "stream",
     "text": [
      "tuy nhiên, vấn đề là iphone 14 pro max cuối cùng có thể bị nhiều thông tin xáo trộn. tập đoàn npd đã báo cáo vào tháng 5 rằng hơn 8/10 người tiêu dùng đang có kế hoạch đánh giá lại mức chi tiêu cho sản phẩm của họ trong vòng 3 đến 6 tháng tới. những yếu tố này có thể khiến việc thuyết phục người tiêu dùng chi hơn 1.000 usd cho một chiếc điện thoại mới trở nên khó khăn hơn. những người mua sắm chỉ quan tâm đến việc có máy ảnh tốt nhất có thể mua iphone 14 pro rẻ hơn, trong khi những người chủ yếu muốn có màn hình lớn có thể chọn iphone 14 max được đồn đại. iphone 14 max được đồn đại có thể sẽ không có các tính năng bổ sung như iphone pro của apple, chẳng hạn như camera ba ống kính và màn hình có tốc độ làm mới cao hơn để cuộn mượt mà hơn.\n"
     ]
    }
   ],
   "source": [
    "print(summary)"
   ]
  },
  {
   "cell_type": "code",
   "execution_count": 91,
   "metadata": {
    "scrolled": true
   },
   "outputs": [
    {
     "name": "stdout",
     "output_type": "stream",
     "text": [
      "[1 0 2 1 2 4 0 4 0 0 0 0 1 3 1 1]\n",
      "\n",
      "*** Using Hierarchical clustering and finding the center cluster by Kmean:\n",
      "\n",
      " nhưng nếu apple phát hành phiên bản 6,7 inch của iphone tiêu chuẩn, giống như các báo cáo từ nikkei asian review, bloomberg và ming-chi kuo chỉ ra, iphone 14 pro max có thể cảm thấy ít độc đáo hơn trong dòng sản phẩm năm nay.  cả hai thiết bị có thể sẽ rẻ hơn iphone 14 pro max.  tập đoàn npd đã báo cáo vào tháng 5 rằng hơn 8/10 người tiêu dùng đang có kế hoạch đánh giá lại mức chi tiêu cho sản phẩm của họ trong vòng 3 đến 6 tháng tới.  những người mua sắm chỉ quan tâm đến việc có máy ảnh tốt nhất có thể mua iphone 14 pro rẻ hơn, trong khi những người chủ yếu muốn có màn hình lớn có thể chọn iphone 14 max được đồn đại.  một cuộc khảo sát gần đây của npd cũng chỉ ra rằng người tiêu dùng có kế hoạch tìm kiếm các mặt hàng rẻ hơn.\n"
     ]
    }
   ],
   "source": [
    "from sklearn.cluster import AgglomerativeClustering\n",
    "from sklearn.cluster import KMeans\n",
    "from sklearn.metrics import pairwise_distances_argmin_min\n",
    "n_clusters_kmean = 5\n",
    "\n",
    "## ======== hierarchical clustering =========\n",
    "n_clusters_hierarchy = 5  # number of regions\n",
    "ward = AgglomerativeClustering(n_clusters=n_clusters_hierarchy)\n",
    "ward = ward.fit(X)\n",
    "print(ward.labels_)\n",
    "\n",
    "# ======== Determining the closest point to the center of each cluster\n",
    "X_Clusters = []\n",
    "idx_cluster = [] \n",
    "for j in range(n_clusters_kmean):\n",
    "    idx = np.where(ward.labels_ == j)[0]  # List of element in each cluster\n",
    "    cluster_elements = []\n",
    "    for k in range(len(idx)):\n",
    "        cluster_elements.append(X[idx[k]])\n",
    "    idx_cluster.append(idx)\n",
    "    X_Clusters.append(cluster_elements)\n",
    "\n",
    "hierarchical_summary = []\n",
    "avg1 = []\n",
    "for j in range(len(X_Clusters)):\n",
    "    kmeans1 = KMeans(n_clusters = 1)\n",
    "    kmeans1 = kmeans1.fit(X_Clusters[j])\n",
    "\n",
    "    idx1 = np.where(kmeans1.labels_ == 0)[0]\n",
    "    avg1.append(np.mean(idx1))\n",
    "\n",
    "    closest1, _ = pairwise_distances_argmin_min(kmeans1.cluster_centers_, X_Clusters[j])\n",
    "    hierarchical_summary.append(' ' + (sentences[idx_cluster[j][closest1[0]]]))\n",
    "\n",
    "ordering1 = sorted(range(n_clusters_hierarchy), key=lambda k: avg1[k])\n",
    "sumary2 = ' '.join([hierarchical_summary[idx] for idx in ordering1])\n",
    "\n",
    "print(\"\\n*** Using Hierarchical clustering and finding the center cluster by Kmean:\\n\")\n",
    "print(sumary2)"
   ]
  }
 ],
 "metadata": {
  "kernelspec": {
   "display_name": "Python 3 (ipykernel)",
   "language": "python",
   "name": "python3"
  },
  "language_info": {
   "codemirror_mode": {
    "name": "ipython",
    "version": 3
   },
   "file_extension": ".py",
   "mimetype": "text/x-python",
   "name": "python",
   "nbconvert_exporter": "python",
   "pygments_lexer": "ipython3",
   "version": "3.9.13"
  }
 },
 "nbformat": 4,
 "nbformat_minor": 4
}
