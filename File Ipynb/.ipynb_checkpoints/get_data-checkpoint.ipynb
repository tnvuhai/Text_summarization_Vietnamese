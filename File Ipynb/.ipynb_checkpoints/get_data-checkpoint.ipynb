{
 "cells": [
  {
   "cell_type": "code",
   "execution_count": 1,
   "metadata": {},
   "outputs": [
    {
     "name": "stdout",
     "output_type": "stream",
     "text": [
      "Read data\n"
     ]
    }
   ],
   "source": [
    "print(\"Read data\")"
   ]
  },
  {
   "cell_type": "code",
   "execution_count": null,
   "metadata": {},
   "outputs": [],
   "source": [
    "from sklearn import preprocessing\n",
    "from sklearn.feature_extraction.text import TfidfVectorizer\n",
    "from pyvi import ViTokenizer, ViPosTagger\n",
    "from tqdm import tqdm\n",
    "import numpy as np\n",
    "import gensim\n",
    "import numpy as np\n",
    "import os \n",
    "import pickle"
   ]
  },
  {
   "cell_type": "code",
   "execution_count": 18,
   "metadata": {},
   "outputs": [],
   "source": [
    "dir_path = os.path.dirname(os.path.realpath(os.getcwd()))\n",
    "dir_path = os.path.join(dir_path, 'File Ipynb')"
   ]
  },
  {
   "cell_type": "code",
   "execution_count": null,
   "metadata": {},
   "outputs": [],
   "source": [
    "def get_data(folder):\n",
    "    sentences = []\n",
    "    for path in os.listdir(folder):\n",
    "        file_path = os.path.join(folder, path)\n",
    "        with open(file_path, 'r', encoding=\"utf-16\") as f:\n",
    "\n",
    "            lines = f.readlines()\n",
    "\n",
    "            for line in lines:\n",
    "                sens = line.split('.')\n",
    "                for sen in sens:\n",
    "                    if len(sen) > 10:\n",
    "                        sen = gensim.utils.simple_preprocess(sen)\n",
    "                        sen = ' '.join(sen)\n",
    "                        sen = ViTokenizer.tokenize(sen)\n",
    "                        sentences.append(sen)\n",
    "\n",
    "    return sentences"
   ]
  },
  {
   "cell_type": "code",
   "execution_count": 19,
   "metadata": {},
   "outputs": [
    {
     "name": "stderr",
     "output_type": "stream",
     "text": [
      " 12%|█▏        | 9/74 [05:27<39:25, 36.39s/it]\n"
     ]
    },
    {
     "ename": "KeyboardInterrupt",
     "evalue": "",
     "output_type": "error",
     "traceback": [
      "\u001b[1;31m---------------------------------------------------------------------------\u001b[0m",
      "\u001b[1;31mKeyboardInterrupt\u001b[0m                         Traceback (most recent call last)",
      "Input \u001b[1;32mIn [19]\u001b[0m, in \u001b[0;36m<cell line: 20>\u001b[1;34m()\u001b[0m\n\u001b[0;32m     14\u001b[0m \u001b[38;5;66;03m# dirs.remove('/Users/linhnvc/Desktop/NLP-proj/Data/10Topics/Ver1.1/Train_Full/.DS_Store')\u001b[39;00m\n\u001b[0;32m     15\u001b[0m \u001b[38;5;66;03m# dirs.remove('/Users/linhnvc/Desktop/NLP-proj/Data/10Topics/Ver1.1/Test_Full/.DS_Store')\u001b[39;00m\n\u001b[0;32m     16\u001b[0m \u001b[38;5;66;03m# dirs.remove('/Users/linhnvc/Desktop/NLP-proj/Data/27Topics/Ver1.1/new test/.DS_Store')\u001b[39;00m\n\u001b[0;32m     17\u001b[0m \u001b[38;5;66;03m# print(len(dirs))\u001b[39;00m\n\u001b[0;32m     18\u001b[0m \u001b[38;5;66;03m# print(dirs)\u001b[39;00m\n\u001b[0;32m     20\u001b[0m \u001b[38;5;28;01mfor\u001b[39;00m d \u001b[38;5;129;01min\u001b[39;00m tqdm(dirs):\n\u001b[1;32m---> 21\u001b[0m     sens \u001b[38;5;241m=\u001b[39m \u001b[43mget_data\u001b[49m\u001b[43m(\u001b[49m\u001b[43md\u001b[49m\u001b[43m)\u001b[49m\n\u001b[0;32m     22\u001b[0m     sentences \u001b[38;5;241m=\u001b[39m sentences \u001b[38;5;241m+\u001b[39m sens\n",
      "Input \u001b[1;32mIn [7]\u001b[0m, in \u001b[0;36mget_data\u001b[1;34m(folder)\u001b[0m\n\u001b[0;32m     13\u001b[0m                     sen \u001b[38;5;241m=\u001b[39m gensim\u001b[38;5;241m.\u001b[39mutils\u001b[38;5;241m.\u001b[39msimple_preprocess(sen)\n\u001b[0;32m     14\u001b[0m                     sen \u001b[38;5;241m=\u001b[39m \u001b[38;5;124m'\u001b[39m\u001b[38;5;124m \u001b[39m\u001b[38;5;124m'\u001b[39m\u001b[38;5;241m.\u001b[39mjoin(sen)\n\u001b[1;32m---> 15\u001b[0m                     sen \u001b[38;5;241m=\u001b[39m \u001b[43mViTokenizer\u001b[49m\u001b[38;5;241;43m.\u001b[39;49m\u001b[43mtokenize\u001b[49m\u001b[43m(\u001b[49m\u001b[43msen\u001b[49m\u001b[43m)\u001b[49m\n\u001b[0;32m     16\u001b[0m                     sentences\u001b[38;5;241m.\u001b[39mappend(sen)\n\u001b[0;32m     18\u001b[0m \u001b[38;5;28;01mreturn\u001b[39;00m sentences\n",
      "File \u001b[1;32mE:\\anaconda3\\envs\\NLP\\lib\\site-packages\\pyvi\\ViTokenizer.py:170\u001b[0m, in \u001b[0;36mtokenize\u001b[1;34m(str)\u001b[0m\n\u001b[0;32m    169\u001b[0m \u001b[38;5;28;01mdef\u001b[39;00m \u001b[38;5;21mtokenize\u001b[39m(\u001b[38;5;28mstr\u001b[39m):\n\u001b[1;32m--> 170\u001b[0m     \u001b[38;5;28;01mreturn\u001b[39;00m \u001b[43mViTokenizer\u001b[49m\u001b[38;5;241;43m.\u001b[39;49m\u001b[43mtokenize\u001b[49m\u001b[43m(\u001b[49m\u001b[38;5;28;43mstr\u001b[39;49m\u001b[43m)\u001b[49m\n",
      "File \u001b[1;32mE:\\anaconda3\\envs\\NLP\\lib\\site-packages\\pyvi\\ViTokenizer.py:118\u001b[0m, in \u001b[0;36mViTokenizer.tokenize\u001b[1;34m(str)\u001b[0m\n\u001b[0;32m    116\u001b[0m \u001b[38;5;28;01mif\u001b[39;00m \u001b[38;5;28mlen\u001b[39m(tmp) \u001b[38;5;241m==\u001b[39m \u001b[38;5;241m0\u001b[39m:\n\u001b[0;32m    117\u001b[0m     \u001b[38;5;28;01mreturn\u001b[39;00m \u001b[38;5;28mstr\u001b[39m\n\u001b[1;32m--> 118\u001b[0m labels \u001b[38;5;241m=\u001b[39m ViTokenizer\u001b[38;5;241m.\u001b[39mmodel\u001b[38;5;241m.\u001b[39mpredict([\u001b[43mViTokenizer\u001b[49m\u001b[38;5;241;43m.\u001b[39;49m\u001b[43msent2features\u001b[49m\u001b[43m(\u001b[49m\u001b[43mtmp\u001b[49m\u001b[43m,\u001b[49m\u001b[43m \u001b[49m\u001b[38;5;28;43;01mFalse\u001b[39;49;00m\u001b[43m)\u001b[49m])\n\u001b[0;32m    119\u001b[0m output \u001b[38;5;241m=\u001b[39m tmp[\u001b[38;5;241m0\u001b[39m]\n\u001b[0;32m    120\u001b[0m \u001b[38;5;28;01mfor\u001b[39;00m i \u001b[38;5;129;01min\u001b[39;00m \u001b[38;5;28mrange\u001b[39m(\u001b[38;5;241m1\u001b[39m, \u001b[38;5;28mlen\u001b[39m(labels[\u001b[38;5;241m0\u001b[39m])):\n",
      "File \u001b[1;32mE:\\anaconda3\\envs\\NLP\\lib\\site-packages\\pyvi\\ViTokenizer.py:75\u001b[0m, in \u001b[0;36mViTokenizer.sent2features\u001b[1;34m(sent, is_training)\u001b[0m\n\u001b[0;32m     73\u001b[0m \u001b[38;5;129m@staticmethod\u001b[39m\n\u001b[0;32m     74\u001b[0m \u001b[38;5;28;01mdef\u001b[39;00m \u001b[38;5;21msent2features\u001b[39m(sent, is_training):\n\u001b[1;32m---> 75\u001b[0m     \u001b[38;5;28;01mreturn\u001b[39;00m [ViTokenizer\u001b[38;5;241m.\u001b[39mword2features(sent, i, is_training) \u001b[38;5;28;01mfor\u001b[39;00m i \u001b[38;5;129;01min\u001b[39;00m \u001b[38;5;28mrange\u001b[39m(\u001b[38;5;28mlen\u001b[39m(sent))]\n",
      "File \u001b[1;32mE:\\anaconda3\\envs\\NLP\\lib\\site-packages\\pyvi\\ViTokenizer.py:75\u001b[0m, in \u001b[0;36m<listcomp>\u001b[1;34m(.0)\u001b[0m\n\u001b[0;32m     73\u001b[0m \u001b[38;5;129m@staticmethod\u001b[39m\n\u001b[0;32m     74\u001b[0m \u001b[38;5;28;01mdef\u001b[39;00m \u001b[38;5;21msent2features\u001b[39m(sent, is_training):\n\u001b[1;32m---> 75\u001b[0m     \u001b[38;5;28;01mreturn\u001b[39;00m [\u001b[43mViTokenizer\u001b[49m\u001b[38;5;241;43m.\u001b[39;49m\u001b[43mword2features\u001b[49m\u001b[43m(\u001b[49m\u001b[43msent\u001b[49m\u001b[43m,\u001b[49m\u001b[43m \u001b[49m\u001b[43mi\u001b[49m\u001b[43m,\u001b[49m\u001b[43m \u001b[49m\u001b[43mis_training\u001b[49m\u001b[43m)\u001b[49m \u001b[38;5;28;01mfor\u001b[39;00m i \u001b[38;5;129;01min\u001b[39;00m \u001b[38;5;28mrange\u001b[39m(\u001b[38;5;28mlen\u001b[39m(sent))]\n",
      "\u001b[1;31mKeyboardInterrupt\u001b[0m: "
     ]
    }
   ],
   "source": [
    "from multiprocessing import Pool\n",
    "sentences = []\n",
    "train_paths = [os.path.join(dir_path, 'Data/10Topics/Ver1.1/Train_Full'), \n",
    "               os.path.join(dir_path, 'Data/10Topics/Ver1.1/Test_Full'),\n",
    "               os.path.join(dir_path, 'Data/27Topics/Ver1.1/new train'),\n",
    "               os.path.join(dir_path, 'Data/27Topics/Ver1.1/new test')]\n",
    "\n",
    "dirs = []\n",
    "for path in train_paths:\n",
    "    for p in os.listdir(path):\n",
    "        dirs.append(os.path.join(path, p))\n",
    "\n",
    "\n",
    "# dirs.remove('/Users/linhnvc/Desktop/NLP-proj/Data/10Topics/Ver1.1/Train_Full/.DS_Store')\n",
    "# dirs.remove('/Users/linhnvc/Desktop/NLP-proj/Data/10Topics/Ver1.1/Test_Full/.DS_Store')\n",
    "# dirs.remove('/Users/linhnvc/Desktop/NLP-proj/Data/27Topics/Ver1.1/new test/.DS_Store')\n",
    "# print(len(dirs))\n",
    "# print(dirs)\n",
    "\n",
    "for d in tqdm(dirs):\n",
    "    sens = get_data(d)\n",
    "    sentences = sentences + sens\n"
   ]
  },
  {
   "cell_type": "code",
   "execution_count": 8,
   "metadata": {},
   "outputs": [
    {
     "name": "stdout",
     "output_type": "stream",
     "text": [
      "2385532\n"
     ]
    }
   ],
   "source": [
    "print(len(sentences))"
   ]
  },
  {
   "cell_type": "code",
   "execution_count": 21,
   "metadata": {},
   "outputs": [],
   "source": [
    "pickle.dump(sentences, open('./sentences.pkl', 'wb'))"
   ]
  }
 ],
 "metadata": {
  "kernelspec": {
   "display_name": "Python 3 (ipykernel)",
   "language": "python",
   "name": "python3"
  },
  "language_info": {
   "codemirror_mode": {
    "name": "ipython",
    "version": 3
   },
   "file_extension": ".py",
   "mimetype": "text/x-python",
   "name": "python",
   "nbconvert_exporter": "python",
   "pygments_lexer": "ipython3",
   "version": "3.9.13"
  }
 },
 "nbformat": 4,
 "nbformat_minor": 4
}
