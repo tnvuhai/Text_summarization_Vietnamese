{
 "cells": [
  {
   "cell_type": "code",
   "execution_count": 61,
   "metadata": {},
   "outputs": [
    {
     "name": "stdout",
     "output_type": "stream",
     "text": [
      "K-Means\n",
      "173444\n"
     ]
    }
   ],
   "source": [
    "print(\"K-Means\")\n",
    "\n",
    "import gensim \n",
    "import gensim.models.keyedvectors as word2vec\n",
    "w2v_model = word2vec.KeyedVectors.load('w2v.model')\n",
    "\n",
    "vocabulary = []\n",
    "for word in w2v_model.index_to_key:\n",
    "    vocabulary.append(word)\n",
    "print(len(vocabulary))"
   ]
  },
  {
   "cell_type": "code",
   "execution_count": 148,
   "metadata": {},
   "outputs": [
    {
     "name": "stdout",
     "output_type": "stream",
     "text": [
      "0 === trong cuộc gặp ngày 16-9, ông modi nói với ông putin rằng bây giờ không phải là thời điểm cho chiến tranh, trong khi an ninh lương thực, phân bón và nhiên liệu mới là những mối quan tâm lớn của thế giới hiện nay.\n",
      "1 === \"tôi biết rằng thời nay không phải là thời đại của chiến tranh và tôi đã nói với ông qua điện thoại về điều này\", ông modi nói bên lề hội nghị thượng đỉnh sco ở uzbekistan.\n",
      "2 === đáp lại, ông putin cho biết ông hiểu những lo ngại của ông modi về cuộc chiến ở ukraine.\n",
      "3 === \"tôi biết lập trường của ông về cuộc xung đột ở ukraine và tôi biết về mối quan tâm của ông.\n",
      "4 === chúng tôi muốn tất cả chuyện này kết thúc càng sớm càng tốt\", ông putin nói.\n",
      "5 === theo hãng tin afp, ấn độ và nga có mối quan hệ lâu dài từ thời chiến tranh lạnh và cho tới nay, nga vẫn là nhà cung cấp vũ khí lớn nhất của ấn độ.\n",
      "6 === ấn độ cũng được cho là né tránh việc lên án nga về cuộc chiến với ukraine khiến giá dầu và các mặt hàng khác tăng vọt.\n",
      "7 === ngày 15-9, tổng thống nga vladimir putin và chủ tịch trung quốc tập cận bình đã có cuộc gặp song phương cũng trong khuôn khổ hội nghị thượng đỉnh sco ở uzbekistan.\n",
      "8 === khi đó, ông putin thừa nhận trung quốc có \"quan ngại\" về cuộc xung đột ở ukraine.\n",
      "9 === tổng thống nga cho biết bản thân đã tìm cách giải quyết những lo ngại của bắc kinh ngay từ những ngày đầu.\n",
      "10 === theo ông putin, matxcơva đánh giá cao lập trường cân bằng của bắc kinh về cuộc khủng hoảng này.\n",
      "11 === tổng thống nga cũng cho biết điện kremlin sẽ làm rõ lập trường của mình về ukraine, nhưng không giải thích thêm.\n",
      "12 === cũng trong cuộc gặp, ông tập nói với tổng thống putin rằng trung quốc sẵn sàng hợp tác với nga \"trong việc mở rộng sự ủng hộ mạnh mẽ cho nhau về các vấn đề liên quan lợi ích cốt lõi của hai bên\".\n"
     ]
    }
   ],
   "source": [
    "content = \"\"\"\n",
    "Trong cuộc gặp ngày 16-9, ông Modi nói với ông Putin rằng bây giờ không phải là thời điểm cho chiến tranh, trong khi an ninh lương thực, phân bón và nhiên liệu mới là những mối quan tâm lớn của thế giới hiện nay.\n",
    "\n",
    "\"Tôi biết rằng thời nay không phải là thời đại của chiến tranh và tôi đã nói với ông qua điện thoại về điều này\", ông Modi nói bên lề hội nghị thượng đỉnh SCO ở Uzbekistan.\n",
    "\n",
    "Đáp lại, ông Putin cho biết ông hiểu những lo ngại của ông Modi về cuộc chiến ở Ukraine. \"Tôi biết lập trường của ông về cuộc xung đột ở Ukraine và tôi biết về mối quan tâm của ông. Chúng tôi muốn tất cả chuyện này kết thúc càng sớm càng tốt\", ông Putin nói.\n",
    "\n",
    "Theo Hãng tin AFP, Ấn Độ và Nga có mối quan hệ lâu dài từ thời chiến tranh lạnh và cho tới nay, Nga vẫn là nhà cung cấp vũ khí lớn nhất của Ấn Độ.\n",
    "\n",
    "Ấn Độ cũng được cho là né tránh việc lên án Nga về cuộc chiến với Ukraine khiến giá dầu và các mặt hàng khác tăng vọt.\n",
    "\n",
    "Ngày 15-9, Tổng thống Nga Vladimir Putin và Chủ tịch Trung Quốc Tập Cận Bình đã có cuộc gặp song phương cũng trong khuôn khổ hội nghị thượng đỉnh SCO ở Uzbekistan.\n",
    "\n",
    "Khi đó, ông Putin thừa nhận Trung Quốc có \"quan ngại\" về cuộc xung đột ở Ukraine. Tổng thống Nga cho biết bản thân đã tìm cách giải quyết những lo ngại của Bắc Kinh ngay từ những ngày đầu.\n",
    "\n",
    "Theo ông Putin, Matxcơva đánh giá cao lập trường cân bằng của Bắc Kinh về cuộc khủng hoảng này. Tổng thống Nga cũng cho biết Điện Kremlin sẽ làm rõ lập trường của mình về Ukraine, nhưng không giải thích thêm.\n",
    "\n",
    "Cũng trong cuộc gặp, ông Tập nói với Tổng thống Putin rằng Trung Quốc sẵn sàng hợp tác với Nga \"trong việc mở rộng sự ủng hộ mạnh mẽ cho nhau về các vấn đề liên quan lợi ích cốt lõi của hai bên\".\n",
    "\"\"\"\n",
    "\n",
    "contents_parsed = content.lower() \n",
    "contents_parsed = contents_parsed.replace('\\n', ' ')\n",
    "contents_parsed = contents_parsed.strip() \n",
    "\n",
    "import nltk\n",
    "sentences = nltk.sent_tokenize(contents_parsed)\n",
    "\n",
    "i = 0\n",
    "for sentence in sentences:\n",
    "    print(i,\"===\", sentence)\n",
    "    i += 1"
   ]
  },
  {
   "cell_type": "code",
   "execution_count": 149,
   "metadata": {},
   "outputs": [
    {
     "name": "stdout",
     "output_type": "stream",
     "text": [
      "13\n"
     ]
    }
   ],
   "source": [
    "from pyvi import ViTokenizer\n",
    "import numpy as np \n",
    "\n",
    "X = []\n",
    "for sentence in sentences:\n",
    "    \n",
    "    # sentence = gensim.utils.simple_preprocess(sentence)\n",
    "    # sentence = ' '.join(sentence)\n",
    "    sentence_tokenized = ViTokenizer.tokenize(sentence)\n",
    "    # print(sentence_tokenized)\n",
    "    words = sentence_tokenized.split(\" \")\n",
    "    sentence_vec = np.zeros((128))\n",
    "    for word in words:\n",
    "        if word in vocabulary:\n",
    "            sentence_vec+=w2v_model[word]\n",
    "    X.append(sentence_vec)\n",
    "\n",
    "print(len(X))"
   ]
  },
  {
   "cell_type": "code",
   "execution_count": 150,
   "metadata": {},
   "outputs": [
    {
     "name": "stdout",
     "output_type": "stream",
     "text": [
      "K-Means Clustering\n",
      "\n",
      "Cụm 1\n",
      "[ 2  3  4  6  8  9 10 11]\n",
      "Thứ tự trung bình:  6.62\n",
      "===================================================================================================================\n",
      "Cụm 2\n",
      "[ 0  1  5 12]\n",
      "Thứ tự trung bình:  4.5\n",
      "===================================================================================================================\n",
      "Cụm 3\n",
      "[7]\n",
      "Thứ tự trung bình:  7.0\n",
      "===================================================================================================================\n",
      "Các câu gần 3 tâm cụm nhất [2 0 7]\n",
      "\n",
      "Kết quả tóm tắt:\n",
      "\n",
      "(Câu 0) trong cuộc gặp ngày 16-9, ông modi nói với ông putin rằng bây giờ không phải là thời điểm cho chiến tranh, trong khi an ninh lương thực, phân bón và nhiên liệu mới là những mối quan tâm lớn của thế giới hiện nay. (Câu 2) đáp lại, ông putin cho biết ông hiểu những lo ngại của ông modi về cuộc chiến ở ukraine. (Câu 7) ngày 15-9, tổng thống nga vladimir putin và chủ tịch trung quốc tập cận bình đã có cuộc gặp song phương cũng trong khuôn khổ hội nghị thượng đỉnh sco ở uzbekistan.\n"
     ]
    }
   ],
   "source": [
    "from sklearn.cluster import KMeans\n",
    "from sklearn.metrics import pairwise_distances_argmin_min\n",
    "\n",
    "n_clusters = 3\n",
    "kmeans = KMeans(n_clusters=n_clusters)\n",
    "kmeans = kmeans.fit(X)\n",
    "\n",
    "print(\"K-Means Clustering\\n\")\n",
    "avg = []\n",
    "for j in range(n_clusters):\n",
    "    print(\"Cụm\", j+1)\n",
    "    idx = np.where(kmeans.labels_ == j)[0]\n",
    "    print(idx)\n",
    "    avg.append(np.mean(idx))\n",
    "    print(\"Thứ tự trung bình: \", round(np.mean(idx), 2))\n",
    "    print(\"=\"*115)\n",
    "closest, _ = pairwise_distances_argmin_min(kmeans.cluster_centers_, X)\n",
    "print(\"Các câu gần\", n_clusters, \"tâm cụm nhất\",closest)\n",
    "ordering = sorted(range(n_clusters), key=lambda k: avg[k])\n",
    "# print(ordering)\n",
    "print(\"\\nKết quả tóm tắt:\\n\")\n",
    "summary = ' '.join([\"(Câu \" + str(closest[idx]) + \") \" + sentences[closest[idx]] for idx in ordering])\n",
    "print(summary)"
   ]
  },
  {
   "cell_type": "code",
   "execution_count": 151,
   "metadata": {},
   "outputs": [
    {
     "name": "stdout",
     "output_type": "stream",
     "text": [
      "Trong cuộc gặp ngày 16-9, ông modi nói với ông putin rằng bây giờ không phải là thời điểm cho chiến tranh, trong khi an ninh lương thực, phân bón và nhiên liệu mới là những mối quan tâm lớn của thế giới hiện nay. Đáp lại, ông putin cho biết ông hiểu những lo ngại của ông modi về cuộc chiến ở ukraine. Ngày 15-9, tổng thống nga vladimir putin và chủ tịch trung quốc tập cận bình đã có cuộc gặp song phương cũng trong khuôn khổ hội nghị thượng đỉnh sco ở uzbekistan. \n"
     ]
    }
   ],
   "source": [
    "summary2 = ' '.join([sentences[closest[idx]] for idx in ordering])\n",
    "summary2 = '. '.join(map(lambda s: s.strip().capitalize(), summary2.split('.')))\n",
    "print(summary2)"
   ]
  },
  {
   "cell_type": "code",
   "execution_count": 153,
   "metadata": {},
   "outputs": [
    {
     "data": {
      "image/png": "[encoded data removed]",
      "text/plain": [
       "<Figure size 1600x800 with 1 Axes>"
      ]
     },
     "metadata": {},
     "output_type": "display_data"
    }
   ],
   "source": [
    "import matplotlib.pyplot as plt\n",
    "distortions = []\n",
    "K = range(1,10)\n",
    "for k in K:\n",
    "    kmeanModel = KMeans(n_clusters=k,init='k-means++', random_state=42)\n",
    "    kmeanModel.fit(X)\n",
    "    distortions.append(kmeanModel.inertia_)\n",
    "plt.figure(figsize=(16,8))\n",
    "plt.plot(K, distortions, 'bx-')\n",
    "plt.xlabel('k')\n",
    "plt.ylabel('Distortion')\n",
    "plt.title('Dùng phương pháp elbow để xác định số cụm tối ưu')\n",
    "plt.show()"
   ]
  },
  {
   "cell_type": "code",
   "execution_count": 111,
   "metadata": {},
   "outputs": [],
   "source": [
    "def configureApp():\n",
    "    for i in range(0, 4):\n",
    "        window.columnconfigure(i, weight=2, minsize=50)\n",
    "    for i in range(1, 7):\n",
    "        window.rowconfigure(i, weight=2, minsize=50)\n",
    "    #Layout column 0\n",
    "    GeneralLabel.grid(row=0, column=0,columnspan=3)\n",
    "    InputLabel.grid(row=1, column=0)\n",
    "    InputTextBox.grid(row=2, column=0, rowspan = 7)\n",
    "    \n",
    "    #Layout column 1\n",
    "    SoCauLabel.grid(row = 1, column = 1)\n",
    "    ChonCumButton.grid(row = 2, column = 1)\n",
    "    SoCumLabel.grid(row = 3,column = 1)\n",
    "    ChonCumTextBox.grid(row = 4, column = 1, sticky=N)\n",
    "    TomTatVanBanButton.grid(row = 5,column = 1)\n",
    "    \n",
    "    #Layout column 2\n",
    "    OutputLabel.grid(row=1, column=2)\n",
    "    OutputTextBox.grid(row=2, column=2, rowspan = 7)"
   ]
  },
  {
   "cell_type": "code",
   "execution_count": 156,
   "metadata": {},
   "outputs": [],
   "source": [
    "def TrackingSentences(value=None):\n",
    "    TextInput = str(InputTextBox.get(1.0, END + \"-1c\"))\n",
    "    contents_parsed = TextInput.lower() \n",
    "    contents_parsed = contents_parsed.replace('\\n', ' ')\n",
    "    contents_parsed = contents_parsed.strip()\n",
    "    Sentences = nltk.sent_tokenize(contents_parsed)\n",
    "    SoCauLabel.config(text=f\"Số câu văn bản là: {len(Sentences)}\")\n",
    "    InputTextBox.edit_modified(False)"
   ]
  },
  {
   "cell_type": "code",
   "execution_count": 157,
   "metadata": {},
   "outputs": [],
   "source": [
    "import tkinter as tk\n",
    "from tkinter import *\n",
    "window = tk.Tk()\n",
    "window.title(\"Vietnamese Text summarization using K-mean by Nguyen Vu Hai\")\n",
    "window.geometry('1280x720')\n",
    "GeneralLabel = tk.Label(text=\"Tóm tắt văn bản sử dụng thuật toán kmean-clustering\", font=(\"bold\", 23), padx=40, pady=50)\n",
    "\n",
    "InputLabel = tk.Label(text=\"Input\", font = (\"bold\",16))\n",
    "InputTextBox = Text(window, height = 20, width = 40, font = (\"bold\", 15))\n",
    "InputTextBox.bind('<<Modified>>', TrackingSentences)\n",
    "\n",
    "ChonCumButton = tk.Button(window, text=\"Xem cụm tối ưu\",font = (\"bold\", 13))\n",
    "SoCauLabel = tk.Label(window, text=\"Mời nhập văn bản\",font = (\"bold\",16))\n",
    "# SoCauLabel.trace(\"w\",TrackingSentences)\n",
    "SoCumLabel = tk.Label(window, text= \"Chọn số câu cần tóm tắt (số cụm)\",font = (\"bold\",13))\n",
    "ChonCumTextBox = Text(window, height = 1, width = 10, padx=5, font = (\"bold\", 15))\n",
    "TomTatVanBanButton = tk.Button(window, text=\"Tiến hành tóm tắt\",font = (\"bold\", 13))\n",
    "\n",
    "OutputLabel = tk.Label(text = \"Output\", font = (\"bold\", 15))\n",
    "OutputTextBox = Text(window, height = 20, width = 40, font = (\"bold\", 16))\n",
    "configureApp()\n",
    "\n",
    "window.mainloop()"
   ]
  },
  {
   "cell_type": "code",
   "execution_count": null,
   "metadata": {},
   "outputs": [],
   "source": []
  },
  {
   "cell_type": "code",
   "execution_count": 9,
   "metadata": {},
   "outputs": [],
   "source": [
    "# ThuLabel = tk.Label(text=\"Lượng thu\", font=(\"bold\", 14), padx=40, pady=50, width=20)\n",
    "# ThuTextBox = Text(window,height=3, width = 40,pady=10,font = (\"bold\", 20))\n",
    "\n",
    "# PhatLabel = tk.Label(text=\"Lượng phát\", font=(\"bold\", 14), padx=40, pady=50)\n",
    "# PhatTextBox = Text(window,height=3, width = 40, pady=10, font = (\"bold\", 20))\n",
    "\n",
    "# ChiPhiLabel = tk.Label(text=\"Ma trận \\n chi phí\", font=(\"bold\", 14), padx=40, pady=50)\n",
    "# ChiPhiTextBox = Text(window,height=5, width = 40, pady=10, font = (\"bold\", 20))\n",
    "\n",
    "# Calculate = tk.Button(window, text=\"Tính chi phí tối ưu\", font=(\"bold\", 14))\n",
    "\n",
    "# KetQua = tk.Label(text=\"Kết quả\", font=(\"bold\", 14), padx=40, pady=50)\n",
    "# KetQuaTextBox = Text(window,height=15, width = 45, pady=10, font= (\"normal\", 20))\n",
    "\n",
    "# Clear = tk.Button(window, text=\"Xóa các ô\", font=(\"bold\", 14))\n",
    "# Help = tk.Button(window, text=\"Trợ giúp\", font=(\"bold\", 14))\n",
    "# About = tk.Button(window, text=\"Về chúng tôi\", font=(\"bold\", 14))"
   ]
  },
  {
   "cell_type": "code",
   "execution_count": null,
   "metadata": {},
   "outputs": [],
   "source": []
  }
 ],
 "metadata": {
  "kernelspec": {
   "display_name": "Python 3 (ipykernel)",
   "language": "python",
   "name": "python3"
  },
  "language_info": {
   "codemirror_mode": {
    "name": "ipython",
    "version": 3
   },
   "file_extension": ".py",
   "mimetype": "text/x-python",
   "name": "python",
   "nbconvert_exporter": "python",
   "pygments_lexer": "ipython3",
   "version": "3.9.13"
  }
 },
 "nbformat": 4,
 "nbformat_minor": 4
}
