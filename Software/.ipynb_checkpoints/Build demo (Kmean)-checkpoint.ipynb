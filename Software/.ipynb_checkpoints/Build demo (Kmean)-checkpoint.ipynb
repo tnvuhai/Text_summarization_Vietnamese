{
 "cells": [
  {
   "cell_type": "code",
   "execution_count": 10,
   "metadata": {},
   "outputs": [
    {
     "name": "stdout",
     "output_type": "stream",
     "text": [
      "K-Means\n",
      "173444\n"
     ]
    }
   ],
   "source": [
    "print(\"K-Means\")\n",
    "\n",
    "import gensim \n",
    "import gensim.models.keyedvectors as word2vec\n",
    "w2v_model = word2vec.KeyedVectors.load('w2v.model')\n",
    "\n",
    "vocabulary = []\n",
    "for word in w2v_model.index_to_key:\n",
    "    vocabulary.append(word)\n",
    "print(len(vocabulary))"
   ]
  },
  {
   "cell_type": "code",
   "execution_count": 11,
   "metadata": {},
   "outputs": [
    {
     "name": "stdout",
     "output_type": "stream",
     "text": [
      "0 === trump cáo buộc đảng dân chủ đang theo đuổi \"nỗ lực đảo chính bất hợp pháp, mang tính đảng phái\" khi tìm cách luận tội ông.\n",
      "1 === \"chính các người mới là phe can thiệp vào bầu cử mỹ, phá vỡ nền dân chủ của đất nước và cản trở công lý.\n",
      "2 === điều này không là gì khác ngoài một nỗ lực đảo chính bất hợp pháp, mang tính đảng phái và sẽ thất bại nặng nề tại hòm phiếu, dựa trên tình hình gần đây\", tổng thống mỹ donald trump viết trong lá thư dài 6 trang gửi chủ tịch hạ viện nancy pelosi vào hôm qua để chỉ trích cuộc điều tra luận tội của phe dân chủ.\n",
      "3 === ông chủ nhà trắng viết thêm rằng bà pelosi \"đang biến hạ viện từ cơ quan lập pháp được kính trọng thành một phòng xử án của cuộc đàn áp đảng phái\", đồng thời \"gần như không thèm che giấu sự thù ghét\" đối với ông.\n",
      "4 === \"bằng cách thúc đẩy cuộc luận tội trái phép đó, các người đang vi phạm lời thề nhậm chức, phá vỡ lòng trung thành với hiến pháp và tuyên chiến với nền dân chủ mỹ.\n",
      "5 === các người coi dân chủ là kẻ thù của chính mình\", trump viết.\n",
      "6 === bức thư của trump được gửi đi trong bối cảnh hạ viện, nơi đảng dân chủ chiếm đa số, dự kiến bỏ phiếu vào hôm nay về các điều khoản luận tội tổng thống mỹ và khả năng cao sẽ thông qua để đưa trump ra xét xử tại thượng viện.\n",
      "7 === ông gần như chắc chắn sẽ trở thành tổng thống mỹ thứ ba trong lịch sử bị luận tội.\n",
      "8 === trước đó, ủy ban tư pháp hạ viện đã thông qua hai điều khoản luận tội trump, bao gồm lạm dụng quyền lực và cản trở quốc hội.\n",
      "9 === phe dân chủ cáo buộc trump thúc ép ukraine điều tra cha con cựu phó tổng thống mỹ joe biden, đối thủ của trump trong cuộc bầu cử năm 2020, gây nguy hiểm cho hiến pháp mỹ, an ninh quốc gia và tính công bằng của bầu cử.\n",
      "10 === trong khi đó, đảng cộng hòa vẫn cố gắng bảo vệ trump, khi lãnh đạo phe đa số tại thượng viện mitch mcconnell bác bỏ yêu cầu của đảng dân chủ nhằm đề nghị 4 quan chức cũ và đương nhiệm ra làm chứng tại phiên tòa luận tội dự kiến diễn ra ở thượng viện vào tháng tới.\n",
      "11 === hạ viện mỹ mở cuộc điều tra luận tội trump từ tháng 9, sau khi một người tố giác giấu tên đệ đơn cáo buộc tổng thống mỹ dùng gói viện trợ quân sự để gây áp lực lên người đồng cấp ukraine volodymyr zelensky.\n",
      "12 === tuy nhiên, trump phủ nhận các cáo buộc và gọi cuộc điều tra luận tội là trò lừa bịp.\n"
     ]
    }
   ],
   "source": [
    "content = \"\"\"\n",
    "Trump cáo buộc đảng Dân chủ đang theo đuổi \"nỗ lực đảo chính bất hợp pháp, mang tính đảng phái\" khi tìm cách luận tội ông.\n",
    "\n",
    "\"Chính các người mới là phe can thiệp vào bầu cử Mỹ, phá vỡ nền dân chủ của đất nước và cản trở công lý. Điều này không là gì khác ngoài một nỗ lực đảo chính bất hợp pháp, mang tính đảng phái và sẽ thất bại nặng nề tại hòm phiếu, dựa trên tình hình gần đây\", Tổng thống Mỹ Donald Trump viết trong lá thư dài 6 trang gửi Chủ tịch Hạ viện Nancy Pelosi vào hôm qua để chỉ trích cuộc điều tra luận tội của phe Dân chủ. \n",
    "\n",
    "Ông chủ Nhà Trắng viết thêm rằng bà Pelosi \"đang biến hạ viện từ cơ quan lập pháp được kính trọng thành một phòng xử án của cuộc đàn áp đảng phái\", đồng thời \"gần như không thèm che giấu sự thù ghét\" đối với ông. \n",
    "\n",
    "\"Bằng cách thúc đẩy cuộc luận tội trái phép đó, các người đang vi phạm lời thề nhậm chức, phá vỡ lòng trung thành với hiến pháp và tuyên chiến với nền dân chủ Mỹ. Các người coi dân chủ là kẻ thù của chính mình\", Trump viết.\n",
    "Bức thư của Trump được gửi đi trong bối cảnh hạ viện, nơi đảng Dân chủ chiếm đa số, dự kiến bỏ phiếu vào hôm nay về các điều khoản luận tội Tổng thống Mỹ và khả năng cao sẽ thông qua để đưa Trump ra xét xử tại thượng viện. Ông gần như chắc chắn sẽ trở thành tổng thống Mỹ thứ ba trong lịch sử bị luận tội. \n",
    "\n",
    "Trước đó, Ủy ban Tư pháp Hạ viện đã thông qua hai điều khoản luận tội Trump, bao gồm lạm dụng quyền lực và cản trở quốc hội. Phe Dân chủ cáo buộc Trump thúc ép Ukraine điều tra cha con cựu phó tổng thống Mỹ Joe Biden, đối thủ của Trump trong cuộc bầu cử năm 2020, gây nguy hiểm cho hiến pháp Mỹ, an ninh quốc gia và tính công bằng của bầu cử. \n",
    "\n",
    "Trong khi đó, đảng Cộng hòa vẫn cố gắng bảo vệ Trump, khi lãnh đạo phe đa số tại thượng viện Mitch McConnell bác bỏ yêu cầu của đảng Dân chủ nhằm đề nghị 4 quan chức cũ và đương nhiệm ra làm chứng tại phiên tòa luận tội dự kiến diễn ra ở thượng viện vào tháng tới. \n",
    "\n",
    "Hạ viện Mỹ mở cuộc điều tra luận tội Trump từ tháng 9, sau khi một người tố giác giấu tên đệ đơn cáo buộc Tổng thống Mỹ dùng gói viện trợ quân sự để gây áp lực lên người đồng cấp Ukraine Volodymyr Zelensky. Tuy nhiên, Trump phủ nhận các cáo buộc và gọi cuộc điều tra luận tội là trò lừa bịp.\n",
    "\"\"\"\n",
    "\n",
    "contents_parsed = content.lower() \n",
    "contents_parsed = contents_parsed.replace('\\n', ' ')\n",
    "contents_parsed = contents_parsed.strip() \n",
    "\n",
    "import nltk\n",
    "sentences = nltk.sent_tokenize(contents_parsed)\n",
    "\n",
    "i = 0\n",
    "for sentence in sentences:\n",
    "    print(i,\"===\", sentence)\n",
    "    i += 1"
   ]
  },
  {
   "cell_type": "code",
   "execution_count": null,
   "metadata": {},
   "outputs": [],
   "source": []
  },
  {
   "cell_type": "code",
   "execution_count": null,
   "metadata": {},
   "outputs": [],
   "source": []
  },
  {
   "cell_type": "code",
   "execution_count": 12,
   "metadata": {},
   "outputs": [
    {
     "name": "stdout",
     "output_type": "stream",
     "text": [
      "13\n"
     ]
    }
   ],
   "source": [
    "from pyvi import ViTokenizer\n",
    "import numpy as np \n",
    "\n",
    "X = []\n",
    "for sentence in sentences:\n",
    "    \n",
    "    # sentence = gensim.utils.simple_preprocess(sentence)\n",
    "    # sentence = ' '.join(sentence)\n",
    "    sentence_tokenized = ViTokenizer.tokenize(sentence)\n",
    "    # print(sentence_tokenized)\n",
    "    words = sentence_tokenized.split(\" \")\n",
    "    sentence_vec = np.zeros((128))\n",
    "    for word in words:\n",
    "        if word in vocabulary:\n",
    "            sentence_vec+=w2v_model[word]\n",
    "    X.append(sentence_vec)\n",
    "\n",
    "print(len(X))"
   ]
  },
  {
   "cell_type": "code",
   "execution_count": 13,
   "metadata": {},
   "outputs": [
    {
     "name": "stdout",
     "output_type": "stream",
     "text": [
      "K-Means Clustering\n",
      "\n",
      "Cụm 1\n",
      "[ 0  1  4  5  7  8 12]\n",
      "Thứ tự trung bình:  5.29\n",
      "===================================================================================================================\n",
      "Cụm 2\n",
      "[ 3  9 11]\n",
      "Thứ tự trung bình:  7.67\n",
      "===================================================================================================================\n",
      "Cụm 3\n",
      "[ 2  6 10]\n",
      "Thứ tự trung bình:  6.0\n",
      "===================================================================================================================\n",
      "Các câu gần 3 tâm cụm nhất [ 0 11  6]\n",
      "\n",
      "Kết quả tóm tắt:\n",
      "\n",
      "(Câu 0) trump cáo buộc đảng dân chủ đang theo đuổi \"nỗ lực đảo chính bất hợp pháp, mang tính đảng phái\" khi tìm cách luận tội ông. (Câu 6) bức thư của trump được gửi đi trong bối cảnh hạ viện, nơi đảng dân chủ chiếm đa số, dự kiến bỏ phiếu vào hôm nay về các điều khoản luận tội tổng thống mỹ và khả năng cao sẽ thông qua để đưa trump ra xét xử tại thượng viện. (Câu 11) hạ viện mỹ mở cuộc điều tra luận tội trump từ tháng 9, sau khi một người tố giác giấu tên đệ đơn cáo buộc tổng thống mỹ dùng gói viện trợ quân sự để gây áp lực lên người đồng cấp ukraine volodymyr zelensky.\n"
     ]
    }
   ],
   "source": [
    "from sklearn.cluster import KMeans\n",
    "from sklearn.metrics import pairwise_distances_argmin_min\n",
    "\n",
    "n_clusters = 3\n",
    "kmeans = KMeans(n_clusters=n_clusters)\n",
    "kmeans = kmeans.fit(X)\n",
    "\n",
    "print(\"K-Means Clustering\\n\")\n",
    "avg = []\n",
    "for j in range(n_clusters):\n",
    "    print(\"Cụm\", j+1)\n",
    "    idx = np.where(kmeans.labels_ == j)[0]\n",
    "    print(idx)\n",
    "    avg.append(np.mean(idx))\n",
    "    print(\"Thứ tự trung bình: \", round(np.mean(idx), 2))\n",
    "    print(\"=\"*115)\n",
    "closest, _ = pairwise_distances_argmin_min(kmeans.cluster_centers_, X)\n",
    "print(\"Các câu gần\", n_clusters, \"tâm cụm nhất\",closest)\n",
    "ordering = sorted(range(n_clusters), key=lambda k: avg[k])\n",
    "# print(ordering)\n",
    "print(\"\\nKết quả tóm tắt:\\n\")\n",
    "summary = ' '.join([\"(Câu \" + str(closest[idx]) + \") \" + sentences[closest[idx]] for idx in ordering])\n",
    "print(summary)"
   ]
  },
  {
   "cell_type": "code",
   "execution_count": 14,
   "metadata": {},
   "outputs": [
    {
     "name": "stdout",
     "output_type": "stream",
     "text": [
      "Trump cáo buộc đảng dân chủ đang theo đuổi \"nỗ lực đảo chính bất hợp pháp, mang tính đảng phái\" khi tìm cách luận tội ông. Bức thư của trump được gửi đi trong bối cảnh hạ viện, nơi đảng dân chủ chiếm đa số, dự kiến bỏ phiếu vào hôm nay về các điều khoản luận tội tổng thống mỹ và khả năng cao sẽ thông qua để đưa trump ra xét xử tại thượng viện. Hạ viện mỹ mở cuộc điều tra luận tội trump từ tháng 9, sau khi một người tố giác giấu tên đệ đơn cáo buộc tổng thống mỹ dùng gói viện trợ quân sự để gây áp lực lên người đồng cấp ukraine volodymyr zelensky. \n"
     ]
    }
   ],
   "source": [
    "summary2 = ' '.join([sentences[closest[idx]] for idx in ordering])\n",
    "summary2 = '. '.join(map(lambda s: s.strip().capitalize(), summary2.split('.')))\n",
    "print(summary2)"
   ]
  },
  {
   "cell_type": "code",
   "execution_count": 21,
   "metadata": {},
   "outputs": [],
   "source": [
    "def configureApp():\n",
    "    for i in range(0, 3):\n",
    "        window.columnconfigure(i, weight=2, minsize=50)\n",
    "    for i in range(1, 5):\n",
    "        window.rowconfigure(i, weight=2, minsize=50)\n",
    "\n",
    "    GeneralLabel.grid(row=0, column=0,columnspan=3)\n",
    "    InputLabel.grid(row=1, column=0)\n",
    "    InputTextBox.grid(row=2, column=0)\n",
    "    ChonCumButton.grid(row=3, column=0, sticky= W)"
   ]
  },
  {
   "cell_type": "code",
   "execution_count": 22,
   "metadata": {},
   "outputs": [],
   "source": [
    "import tkinter as tk\n",
    "from tkinter import *\n",
    "window = tk.Tk()\n",
    "window.title(\"Vietnamese Text summarization using K-mean by Nguyen Vu Hai\")\n",
    "window.geometry('1280x720')\n",
    "GeneralLabel = tk.Label(text=\"Tóm tắt văn bản sử dụng thuật toán kmean-clustering\", font=(\"bold\", 22), padx=40, pady=50)\n",
    "\n",
    "InputLabel = tk.Label(text=\"Input\", font = (\"bold\",14))\n",
    "InputTextBox = Text(window, height = 20, width = 40, font = (\"bold\", 15))\n",
    "\n",
    "ChonCumButton = tk.Button(window, text=\"Xem cụm tối ưu\", pady = 4)\n",
    "configureApp()\n",
    "\n",
    "window.mainloop()"
   ]
  },
  {
   "cell_type": "code",
   "execution_count": 17,
   "metadata": {},
   "outputs": [
    {
     "ename": "TclError",
     "evalue": "can't invoke \"text\" command: application has been destroyed",
     "output_type": "error",
     "traceback": [
      "\u001b[1;31m---------------------------------------------------------------------------\u001b[0m",
      "\u001b[1;31mTclError\u001b[0m                                  Traceback (most recent call last)",
      "Input \u001b[1;32mIn [17]\u001b[0m, in \u001b[0;36m<cell line: 2>\u001b[1;34m()\u001b[0m\n\u001b[0;32m      1\u001b[0m ThuLabel \u001b[38;5;241m=\u001b[39m tk\u001b[38;5;241m.\u001b[39mLabel(text\u001b[38;5;241m=\u001b[39m\u001b[38;5;124m\"\u001b[39m\u001b[38;5;124mLượng thu\u001b[39m\u001b[38;5;124m\"\u001b[39m, font\u001b[38;5;241m=\u001b[39m(\u001b[38;5;124m\"\u001b[39m\u001b[38;5;124mbold\u001b[39m\u001b[38;5;124m\"\u001b[39m, \u001b[38;5;241m14\u001b[39m), padx\u001b[38;5;241m=\u001b[39m\u001b[38;5;241m40\u001b[39m, pady\u001b[38;5;241m=\u001b[39m\u001b[38;5;241m50\u001b[39m, width\u001b[38;5;241m=\u001b[39m\u001b[38;5;241m20\u001b[39m)\n\u001b[1;32m----> 2\u001b[0m ThuTextBox \u001b[38;5;241m=\u001b[39m \u001b[43mText\u001b[49m\u001b[43m(\u001b[49m\u001b[43mwindow\u001b[49m\u001b[43m,\u001b[49m\u001b[43mheight\u001b[49m\u001b[38;5;241;43m=\u001b[39;49m\u001b[38;5;241;43m3\u001b[39;49m\u001b[43m,\u001b[49m\u001b[43m \u001b[49m\u001b[43mwidth\u001b[49m\u001b[43m \u001b[49m\u001b[38;5;241;43m=\u001b[39;49m\u001b[43m \u001b[49m\u001b[38;5;241;43m40\u001b[39;49m\u001b[43m,\u001b[49m\u001b[43mpady\u001b[49m\u001b[38;5;241;43m=\u001b[39;49m\u001b[38;5;241;43m10\u001b[39;49m\u001b[43m,\u001b[49m\u001b[43mfont\u001b[49m\u001b[43m \u001b[49m\u001b[38;5;241;43m=\u001b[39;49m\u001b[43m \u001b[49m\u001b[43m(\u001b[49m\u001b[38;5;124;43m\"\u001b[39;49m\u001b[38;5;124;43mbold\u001b[39;49m\u001b[38;5;124;43m\"\u001b[39;49m\u001b[43m,\u001b[49m\u001b[43m \u001b[49m\u001b[38;5;241;43m20\u001b[39;49m\u001b[43m)\u001b[49m\u001b[43m)\u001b[49m\n\u001b[0;32m      4\u001b[0m PhatLabel \u001b[38;5;241m=\u001b[39m tk\u001b[38;5;241m.\u001b[39mLabel(text\u001b[38;5;241m=\u001b[39m\u001b[38;5;124m\"\u001b[39m\u001b[38;5;124mLượng phát\u001b[39m\u001b[38;5;124m\"\u001b[39m, font\u001b[38;5;241m=\u001b[39m(\u001b[38;5;124m\"\u001b[39m\u001b[38;5;124mbold\u001b[39m\u001b[38;5;124m\"\u001b[39m, \u001b[38;5;241m14\u001b[39m), padx\u001b[38;5;241m=\u001b[39m\u001b[38;5;241m40\u001b[39m, pady\u001b[38;5;241m=\u001b[39m\u001b[38;5;241m50\u001b[39m)\n\u001b[0;32m      5\u001b[0m PhatTextBox \u001b[38;5;241m=\u001b[39m Text(window,height\u001b[38;5;241m=\u001b[39m\u001b[38;5;241m3\u001b[39m, width \u001b[38;5;241m=\u001b[39m \u001b[38;5;241m40\u001b[39m, pady\u001b[38;5;241m=\u001b[39m\u001b[38;5;241m10\u001b[39m, font \u001b[38;5;241m=\u001b[39m (\u001b[38;5;124m\"\u001b[39m\u001b[38;5;124mbold\u001b[39m\u001b[38;5;124m\"\u001b[39m, \u001b[38;5;241m20\u001b[39m))\n",
      "File \u001b[1;32mD:\\Anaconda3\\envs\\NLP\\lib\\tkinter\\__init__.py:3559\u001b[0m, in \u001b[0;36mText.__init__\u001b[1;34m(self, master, cnf, **kw)\u001b[0m\n\u001b[0;32m   3536\u001b[0m \u001b[38;5;28;01mdef\u001b[39;00m \u001b[38;5;21m__init__\u001b[39m(\u001b[38;5;28mself\u001b[39m, master\u001b[38;5;241m=\u001b[39m\u001b[38;5;28;01mNone\u001b[39;00m, cnf\u001b[38;5;241m=\u001b[39m{}, \u001b[38;5;241m*\u001b[39m\u001b[38;5;241m*\u001b[39mkw):\n\u001b[0;32m   3537\u001b[0m     \u001b[38;5;124;03m\"\"\"Construct a text widget with the parent MASTER.\u001b[39;00m\n\u001b[0;32m   3538\u001b[0m \n\u001b[0;32m   3539\u001b[0m \u001b[38;5;124;03m    STANDARD OPTIONS\u001b[39;00m\n\u001b[1;32m   (...)\u001b[0m\n\u001b[0;32m   3557\u001b[0m \n\u001b[0;32m   3558\u001b[0m \u001b[38;5;124;03m    \"\"\"\u001b[39;00m\n\u001b[1;32m-> 3559\u001b[0m     \u001b[43mWidget\u001b[49m\u001b[38;5;241;43m.\u001b[39;49m\u001b[38;5;21;43m__init__\u001b[39;49m\u001b[43m(\u001b[49m\u001b[38;5;28;43mself\u001b[39;49m\u001b[43m,\u001b[49m\u001b[43m \u001b[49m\u001b[43mmaster\u001b[49m\u001b[43m,\u001b[49m\u001b[43m \u001b[49m\u001b[38;5;124;43m'\u001b[39;49m\u001b[38;5;124;43mtext\u001b[39;49m\u001b[38;5;124;43m'\u001b[39;49m\u001b[43m,\u001b[49m\u001b[43m \u001b[49m\u001b[43mcnf\u001b[49m\u001b[43m,\u001b[49m\u001b[43m \u001b[49m\u001b[43mkw\u001b[49m\u001b[43m)\u001b[49m\n",
      "File \u001b[1;32mD:\\Anaconda3\\envs\\NLP\\lib\\tkinter\\__init__.py:2572\u001b[0m, in \u001b[0;36mBaseWidget.__init__\u001b[1;34m(self, master, widgetName, cnf, kw, extra)\u001b[0m\n\u001b[0;32m   2570\u001b[0m \u001b[38;5;28;01mfor\u001b[39;00m k, v \u001b[38;5;129;01min\u001b[39;00m classes:\n\u001b[0;32m   2571\u001b[0m     \u001b[38;5;28;01mdel\u001b[39;00m cnf[k]\n\u001b[1;32m-> 2572\u001b[0m \u001b[38;5;28;43mself\u001b[39;49m\u001b[38;5;241;43m.\u001b[39;49m\u001b[43mtk\u001b[49m\u001b[38;5;241;43m.\u001b[39;49m\u001b[43mcall\u001b[49m\u001b[43m(\u001b[49m\n\u001b[0;32m   2573\u001b[0m \u001b[43m    \u001b[49m\u001b[43m(\u001b[49m\u001b[43mwidgetName\u001b[49m\u001b[43m,\u001b[49m\u001b[43m \u001b[49m\u001b[38;5;28;43mself\u001b[39;49m\u001b[38;5;241;43m.\u001b[39;49m\u001b[43m_w\u001b[49m\u001b[43m)\u001b[49m\u001b[43m \u001b[49m\u001b[38;5;241;43m+\u001b[39;49m\u001b[43m \u001b[49m\u001b[43mextra\u001b[49m\u001b[43m \u001b[49m\u001b[38;5;241;43m+\u001b[39;49m\u001b[43m \u001b[49m\u001b[38;5;28;43mself\u001b[39;49m\u001b[38;5;241;43m.\u001b[39;49m\u001b[43m_options\u001b[49m\u001b[43m(\u001b[49m\u001b[43mcnf\u001b[49m\u001b[43m)\u001b[49m\u001b[43m)\u001b[49m\n\u001b[0;32m   2574\u001b[0m \u001b[38;5;28;01mfor\u001b[39;00m k, v \u001b[38;5;129;01min\u001b[39;00m classes:\n\u001b[0;32m   2575\u001b[0m     k\u001b[38;5;241m.\u001b[39mconfigure(\u001b[38;5;28mself\u001b[39m, v)\n",
      "\u001b[1;31mTclError\u001b[0m: can't invoke \"text\" command: application has been destroyed"
     ]
    }
   ],
   "source": [
    "ThuLabel = tk.Label(text=\"Lượng thu\", font=(\"bold\", 14), padx=40, pady=50, width=20)\n",
    "ThuTextBox = Text(window,height=3, width = 40,pady=10,font = (\"bold\", 20))\n",
    "\n",
    "PhatLabel = tk.Label(text=\"Lượng phát\", font=(\"bold\", 14), padx=40, pady=50)\n",
    "PhatTextBox = Text(window,height=3, width = 40, pady=10, font = (\"bold\", 20))\n",
    "\n",
    "ChiPhiLabel = tk.Label(text=\"Ma trận \\n chi phí\", font=(\"bold\", 14), padx=40, pady=50)\n",
    "ChiPhiTextBox = Text(window,height=5, width = 40, pady=10, font = (\"bold\", 20))\n",
    "\n",
    "Calculate = tk.Button(window, text=\"Tính chi phí tối ưu\", font=(\"bold\", 14))\n",
    "\n",
    "KetQua = tk.Label(text=\"Kết quả\", font=(\"bold\", 14), padx=40, pady=50)\n",
    "KetQuaTextBox = Text(window,height=15, width = 45, pady=10, font= (\"normal\", 20))\n",
    "\n",
    "Clear = tk.Button(window, text=\"Xóa các ô\", font=(\"bold\", 14))\n",
    "Help = tk.Button(window, text=\"Trợ giúp\", font=(\"bold\", 14))\n",
    "About = tk.Button(window, text=\"Về chúng tôi\", font=(\"bold\", 14))"
   ]
  },
  {
   "cell_type": "code",
   "execution_count": null,
   "metadata": {},
   "outputs": [],
   "source": []
  }
 ],
 "metadata": {
  "kernelspec": {
   "display_name": "Python 3 (ipykernel)",
   "language": "python",
   "name": "python3"
  },
  "language_info": {
   "codemirror_mode": {
    "name": "ipython",
    "version": 3
   },
   "file_extension": ".py",
   "mimetype": "text/x-python",
   "name": "python",
   "nbconvert_exporter": "python",
   "pygments_lexer": "ipython3",
   "version": "3.9.13"
  }
 },
 "nbformat": 4,
 "nbformat_minor": 4
}
